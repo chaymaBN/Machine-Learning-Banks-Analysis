{
 "cells": [
  {
   "cell_type": "markdown",
   "metadata": {},
   "source": [
    "# German Bank \n",
    "\n",
    "* **Classe :** 4DS2\n",
    "* **Membres de l'équipe :**\n",
    "* Ben Mhanna Koussay\n",
    "* Ben Nacer Chayma\n",
    "* Douik Mohamed Malek\n",
    "* Ayachi Hosni\n",
    "* Hethli Amal \n",
    "* Kitar Chifa\n",
    "\n"
   ]
  },
  {
   "cell_type": "code",
   "execution_count": null,
   "metadata": {},
   "outputs": [],
   "source": [
    "import pandas as pd \n",
    "import numpy as np\n",
    "import matplotlib.pyplot as plt\n",
    "import seaborn as sns"
   ]
  },
  {
   "cell_type": "code",
   "execution_count": null,
   "metadata": {},
   "outputs": [],
   "source": [
    "#lECTURE DU FICHIER ET ATTRIBUTION DES NOMS DE COLONNES \n",
    "file = pd.read_csv(\"german.data\" , header=None, sep=\" \")\n",
    "file.columns=['ExistingChecking', 'Duration', 'History', 'Purpose',\n",
    "       'Amount', 'Savings', 'EmploymentSince', 'InstallmentRate',\n",
    "       'StatusSex', 'OtherDebtors', 'ResidenceSince', 'Property', 'Age',\n",
    "       'OtherInstallmentPlans', 'Housing', 'ExistingCredits', 'Job',\n",
    "       'PeopleLiable', 'Telephone', 'ForeignWorker', 'Class']"
   ]
  },
  {
   "cell_type": "code",
   "execution_count": null,
   "metadata": {},
   "outputs": [],
   "source": [
    "file.head()\n"
   ]
  },
  {
   "cell_type": "code",
   "execution_count": null,
   "metadata": {},
   "outputs": [],
   "source": [
    "classes = file[\"Class\"].value_counts()\n",
    "df = pd.DataFrame({'Classes': classes.index,'values': classes.values})\n",
    "plt.figure(figsize = (6,6))\n",
    "plt.title('Classes')\n",
    "sns.set_color_codes(\"pastel\")\n",
    "sns.barplot(x=\"Classes\", y=\"values\", data=df)\n",
    "locs, labels = plt.xticks()\n",
    "plt.show()"
   ]
  },
  {
   "cell_type": "markdown",
   "metadata": {},
   "source": [
    "#### => Le désequilibre entre les deux clasees de crédits n'est pas très large , donc on peut garder ces valeurs "
   ]
  },
  {
   "cell_type": "code",
   "execution_count": null,
   "metadata": {},
   "outputs": [],
   "source": [
    "file.info()"
   ]
  },
  {
   "cell_type": "code",
   "execution_count": 379,
   "metadata": {},
   "outputs": [
    {
     "data": {
      "text/plain": [
       "Index(['ExistingChecking', 'Duration', 'History', 'Purpose', 'Amount',\n",
       "       'Savings', 'EmploymentSince', 'InstallmentRate', 'StatusSex',\n",
       "       'OtherDebtors', 'ResidenceSince', 'Property', 'Age',\n",
       "       'OtherInstallmentPlans', 'Housing', 'ExistingCredits', 'Job',\n",
       "       'PeopleLiable', 'Telephone', 'ForeignWorker', 'Class'],\n",
       "      dtype='object')"
      ]
     },
     "execution_count": 379,
     "metadata": {},
     "output_type": "execute_result"
    }
   ],
   "source": [
    "# Affichage de la liste des colonnes :\n",
    "file.columns"
   ]
  },
  {
   "cell_type": "code",
   "execution_count": 380,
   "metadata": {},
   "outputs": [
    {
     "data": {
      "text/plain": [
       "ExistingChecking         0\n",
       "Duration                 0\n",
       "History                  0\n",
       "Purpose                  0\n",
       "Amount                   0\n",
       "Savings                  0\n",
       "EmploymentSince          0\n",
       "InstallmentRate          0\n",
       "StatusSex                0\n",
       "OtherDebtors             0\n",
       "ResidenceSince           0\n",
       "Property                 0\n",
       "Age                      0\n",
       "OtherInstallmentPlans    0\n",
       "Housing                  0\n",
       "ExistingCredits          0\n",
       "Job                      0\n",
       "PeopleLiable             0\n",
       "Telephone                0\n",
       "ForeignWorker            0\n",
       "Class                    0\n",
       "dtype: int64"
      ]
     },
     "execution_count": 380,
     "metadata": {},
     "output_type": "execute_result"
    }
   ],
   "source": [
    "#nettoyage des donnees \n",
    "file.isna().sum()"
   ]
  },
  {
   "cell_type": "markdown",
   "metadata": {},
   "source": [
    "* Nous pouvons remarquer qu'il n'y a **pas** de lignes manquantes (Valeurs \"na\") pour les colonnes que nous avons sélectionnées."
   ]
  },
  {
   "cell_type": "code",
   "execution_count": 381,
   "metadata": {},
   "outputs": [
    {
     "data": {
      "text/plain": [
       "ExistingChecking         object\n",
       "Duration                  int64\n",
       "History                  object\n",
       "Purpose                  object\n",
       "Amount                    int64\n",
       "Savings                  object\n",
       "EmploymentSince          object\n",
       "InstallmentRate           int64\n",
       "StatusSex                object\n",
       "OtherDebtors             object\n",
       "ResidenceSince            int64\n",
       "Property                 object\n",
       "Age                       int64\n",
       "OtherInstallmentPlans    object\n",
       "Housing                  object\n",
       "ExistingCredits           int64\n",
       "Job                      object\n",
       "PeopleLiable              int64\n",
       "Telephone                object\n",
       "ForeignWorker            object\n",
       "Class                     int64\n",
       "dtype: object"
      ]
     },
     "execution_count": 381,
     "metadata": {},
     "output_type": "execute_result"
    }
   ],
   "source": [
    "# Affichage des types des variables\n",
    "file.dtypes"
   ]
  },
  {
   "cell_type": "code",
   "execution_count": null,
   "metadata": {},
   "outputs": [],
   "source": [
    "# VERIFICATION ES VALEURS NULLES"
   ]
  },
  {
   "cell_type": "code",
   "execution_count": 382,
   "metadata": {},
   "outputs": [
    {
     "data": {
      "text/html": [
       "<div>\n",
       "<style scoped>\n",
       "    .dataframe tbody tr th:only-of-type {\n",
       "        vertical-align: middle;\n",
       "    }\n",
       "\n",
       "    .dataframe tbody tr th {\n",
       "        vertical-align: top;\n",
       "    }\n",
       "\n",
       "    .dataframe thead th {\n",
       "        text-align: right;\n",
       "    }\n",
       "</style>\n",
       "<table border=\"1\" class=\"dataframe\">\n",
       "  <thead>\n",
       "    <tr style=\"text-align: right;\">\n",
       "      <th></th>\n",
       "      <th>ExistingChecking</th>\n",
       "      <th>Duration</th>\n",
       "      <th>History</th>\n",
       "      <th>Purpose</th>\n",
       "      <th>Amount</th>\n",
       "      <th>Savings</th>\n",
       "      <th>EmploymentSince</th>\n",
       "      <th>InstallmentRate</th>\n",
       "      <th>StatusSex</th>\n",
       "      <th>OtherDebtors</th>\n",
       "      <th>...</th>\n",
       "      <th>Property</th>\n",
       "      <th>Age</th>\n",
       "      <th>OtherInstallmentPlans</th>\n",
       "      <th>Housing</th>\n",
       "      <th>ExistingCredits</th>\n",
       "      <th>Job</th>\n",
       "      <th>PeopleLiable</th>\n",
       "      <th>Telephone</th>\n",
       "      <th>ForeignWorker</th>\n",
       "      <th>Class</th>\n",
       "    </tr>\n",
       "  </thead>\n",
       "  <tbody>\n",
       "  </tbody>\n",
       "</table>\n",
       "<p>0 rows × 21 columns</p>\n",
       "</div>"
      ],
      "text/plain": [
       "Empty DataFrame\n",
       "Columns: [ExistingChecking, Duration, History, Purpose, Amount, Savings, EmploymentSince, InstallmentRate, StatusSex, OtherDebtors, ResidenceSince, Property, Age, OtherInstallmentPlans, Housing, ExistingCredits, Job, PeopleLiable, Telephone, ForeignWorker, Class]\n",
       "Index: []\n",
       "\n",
       "[0 rows x 21 columns]"
      ]
     },
     "execution_count": 382,
     "metadata": {},
     "output_type": "execute_result"
    }
   ],
   "source": [
    "file[file[\"Age\"] == 0]"
   ]
  },
  {
   "cell_type": "code",
   "execution_count": 383,
   "metadata": {},
   "outputs": [
    {
     "data": {
      "text/html": [
       "<div>\n",
       "<style scoped>\n",
       "    .dataframe tbody tr th:only-of-type {\n",
       "        vertical-align: middle;\n",
       "    }\n",
       "\n",
       "    .dataframe tbody tr th {\n",
       "        vertical-align: top;\n",
       "    }\n",
       "\n",
       "    .dataframe thead th {\n",
       "        text-align: right;\n",
       "    }\n",
       "</style>\n",
       "<table border=\"1\" class=\"dataframe\">\n",
       "  <thead>\n",
       "    <tr style=\"text-align: right;\">\n",
       "      <th></th>\n",
       "      <th>ExistingChecking</th>\n",
       "      <th>Duration</th>\n",
       "      <th>History</th>\n",
       "      <th>Purpose</th>\n",
       "      <th>Amount</th>\n",
       "      <th>Savings</th>\n",
       "      <th>EmploymentSince</th>\n",
       "      <th>InstallmentRate</th>\n",
       "      <th>StatusSex</th>\n",
       "      <th>OtherDebtors</th>\n",
       "      <th>...</th>\n",
       "      <th>Property</th>\n",
       "      <th>Age</th>\n",
       "      <th>OtherInstallmentPlans</th>\n",
       "      <th>Housing</th>\n",
       "      <th>ExistingCredits</th>\n",
       "      <th>Job</th>\n",
       "      <th>PeopleLiable</th>\n",
       "      <th>Telephone</th>\n",
       "      <th>ForeignWorker</th>\n",
       "      <th>Class</th>\n",
       "    </tr>\n",
       "  </thead>\n",
       "  <tbody>\n",
       "  </tbody>\n",
       "</table>\n",
       "<p>0 rows × 21 columns</p>\n",
       "</div>"
      ],
      "text/plain": [
       "Empty DataFrame\n",
       "Columns: [ExistingChecking, Duration, History, Purpose, Amount, Savings, EmploymentSince, InstallmentRate, StatusSex, OtherDebtors, ResidenceSince, Property, Age, OtherInstallmentPlans, Housing, ExistingCredits, Job, PeopleLiable, Telephone, ForeignWorker, Class]\n",
       "Index: []\n",
       "\n",
       "[0 rows x 21 columns]"
      ]
     },
     "execution_count": 383,
     "metadata": {},
     "output_type": "execute_result"
    }
   ],
   "source": [
    "file[file[\"Duration\"] == 0]"
   ]
  },
  {
   "cell_type": "code",
   "execution_count": 384,
   "metadata": {},
   "outputs": [
    {
     "data": {
      "text/html": [
       "<div>\n",
       "<style scoped>\n",
       "    .dataframe tbody tr th:only-of-type {\n",
       "        vertical-align: middle;\n",
       "    }\n",
       "\n",
       "    .dataframe tbody tr th {\n",
       "        vertical-align: top;\n",
       "    }\n",
       "\n",
       "    .dataframe thead th {\n",
       "        text-align: right;\n",
       "    }\n",
       "</style>\n",
       "<table border=\"1\" class=\"dataframe\">\n",
       "  <thead>\n",
       "    <tr style=\"text-align: right;\">\n",
       "      <th></th>\n",
       "      <th>ExistingChecking</th>\n",
       "      <th>Duration</th>\n",
       "      <th>History</th>\n",
       "      <th>Purpose</th>\n",
       "      <th>Amount</th>\n",
       "      <th>Savings</th>\n",
       "      <th>EmploymentSince</th>\n",
       "      <th>InstallmentRate</th>\n",
       "      <th>StatusSex</th>\n",
       "      <th>OtherDebtors</th>\n",
       "      <th>...</th>\n",
       "      <th>Property</th>\n",
       "      <th>Age</th>\n",
       "      <th>OtherInstallmentPlans</th>\n",
       "      <th>Housing</th>\n",
       "      <th>ExistingCredits</th>\n",
       "      <th>Job</th>\n",
       "      <th>PeopleLiable</th>\n",
       "      <th>Telephone</th>\n",
       "      <th>ForeignWorker</th>\n",
       "      <th>Class</th>\n",
       "    </tr>\n",
       "  </thead>\n",
       "  <tbody>\n",
       "  </tbody>\n",
       "</table>\n",
       "<p>0 rows × 21 columns</p>\n",
       "</div>"
      ],
      "text/plain": [
       "Empty DataFrame\n",
       "Columns: [ExistingChecking, Duration, History, Purpose, Amount, Savings, EmploymentSince, InstallmentRate, StatusSex, OtherDebtors, ResidenceSince, Property, Age, OtherInstallmentPlans, Housing, ExistingCredits, Job, PeopleLiable, Telephone, ForeignWorker, Class]\n",
       "Index: []\n",
       "\n",
       "[0 rows x 21 columns]"
      ]
     },
     "execution_count": 384,
     "metadata": {},
     "output_type": "execute_result"
    }
   ],
   "source": [
    "file[file[\"Amount\"] == 0]"
   ]
  },
  {
   "cell_type": "code",
   "execution_count": 385,
   "metadata": {},
   "outputs": [
    {
     "data": {
      "text/plain": [
       "<matplotlib.axes._subplots.AxesSubplot at 0x23b2ba5b5f8>"
      ]
     },
     "execution_count": 385,
     "metadata": {},
     "output_type": "execute_result"
    },
    {
     "data": {
      "image/png": "[encoded data removed]",
      "text/plain": [
       "<Figure size 432x288 with 1 Axes>"
      ]
     },
     "metadata": {
      "needs_background": "light"
     },
     "output_type": "display_data"
    }
   ],
   "source": [
    "#Vérification des valeurs abérantes\n",
    "file.boxplot(column=\"Amount\")"
   ]
  },
  {
   "cell_type": "code",
   "execution_count": 386,
   "metadata": {},
   "outputs": [
    {
     "data": {
      "text/plain": [
       "<matplotlib.axes._subplots.AxesSubplot at 0x23b2b72e240>"
      ]
     },
     "execution_count": 386,
     "metadata": {},
     "output_type": "execute_result"
    },
    {
     "data": {
      "image/png": "[encoded data removed]",
      "text/plain": [
       "<Figure size 432x288 with 1 Axes>"
      ]
     },
     "metadata": {
      "needs_background": "light"
     },
     "output_type": "display_data"
    }
   ],
   "source": [
    "file.boxplot(column=\"Duration\")"
   ]
  },
  {
   "cell_type": "code",
   "execution_count": 387,
   "metadata": {},
   "outputs": [
    {
     "data": {
      "text/plain": [
       "<matplotlib.axes._subplots.AxesSubplot at 0x23b2b7cdc88>"
      ]
     },
     "execution_count": 387,
     "metadata": {},
     "output_type": "execute_result"
    },
    {
     "data": {
      "image/png": "[encoded data removed]",
      "text/plain": [
       "<Figure size 432x288 with 1 Axes>"
      ]
     },
     "metadata": {
      "needs_background": "light"
     },
     "output_type": "display_data"
    }
   ],
   "source": [
    "file.boxplot(column=\"Age\")"
   ]
  },
  {
   "cell_type": "code",
   "execution_count": 388,
   "metadata": {},
   "outputs": [
    {
     "data": {
      "text/html": [
       "<div>\n",
       "<style scoped>\n",
       "    .dataframe tbody tr th:only-of-type {\n",
       "        vertical-align: middle;\n",
       "    }\n",
       "\n",
       "    .dataframe tbody tr th {\n",
       "        vertical-align: top;\n",
       "    }\n",
       "\n",
       "    .dataframe thead th {\n",
       "        text-align: right;\n",
       "    }\n",
       "</style>\n",
       "<table border=\"1\" class=\"dataframe\">\n",
       "  <thead>\n",
       "    <tr style=\"text-align: right;\">\n",
       "      <th></th>\n",
       "      <th>Duration</th>\n",
       "      <th>Amount</th>\n",
       "      <th>InstallmentRate</th>\n",
       "      <th>ResidenceSince</th>\n",
       "      <th>Age</th>\n",
       "      <th>ExistingCredits</th>\n",
       "      <th>PeopleLiable</th>\n",
       "      <th>Class</th>\n",
       "    </tr>\n",
       "  </thead>\n",
       "  <tbody>\n",
       "    <tr>\n",
       "      <th>count</th>\n",
       "      <td>1000.000000</td>\n",
       "      <td>1000.000000</td>\n",
       "      <td>1000.000000</td>\n",
       "      <td>1000.000000</td>\n",
       "      <td>1000.000000</td>\n",
       "      <td>1000.000000</td>\n",
       "      <td>1000.000000</td>\n",
       "      <td>1000.000000</td>\n",
       "    </tr>\n",
       "    <tr>\n",
       "      <th>mean</th>\n",
       "      <td>20.903000</td>\n",
       "      <td>3271.258000</td>\n",
       "      <td>2.973000</td>\n",
       "      <td>2.845000</td>\n",
       "      <td>35.546000</td>\n",
       "      <td>1.407000</td>\n",
       "      <td>1.155000</td>\n",
       "      <td>1.300000</td>\n",
       "    </tr>\n",
       "    <tr>\n",
       "      <th>std</th>\n",
       "      <td>12.058814</td>\n",
       "      <td>2822.736876</td>\n",
       "      <td>1.118715</td>\n",
       "      <td>1.103718</td>\n",
       "      <td>11.375469</td>\n",
       "      <td>0.577654</td>\n",
       "      <td>0.362086</td>\n",
       "      <td>0.458487</td>\n",
       "    </tr>\n",
       "    <tr>\n",
       "      <th>min</th>\n",
       "      <td>4.000000</td>\n",
       "      <td>250.000000</td>\n",
       "      <td>1.000000</td>\n",
       "      <td>1.000000</td>\n",
       "      <td>19.000000</td>\n",
       "      <td>1.000000</td>\n",
       "      <td>1.000000</td>\n",
       "      <td>1.000000</td>\n",
       "    </tr>\n",
       "    <tr>\n",
       "      <th>25%</th>\n",
       "      <td>12.000000</td>\n",
       "      <td>1365.500000</td>\n",
       "      <td>2.000000</td>\n",
       "      <td>2.000000</td>\n",
       "      <td>27.000000</td>\n",
       "      <td>1.000000</td>\n",
       "      <td>1.000000</td>\n",
       "      <td>1.000000</td>\n",
       "    </tr>\n",
       "    <tr>\n",
       "      <th>50%</th>\n",
       "      <td>18.000000</td>\n",
       "      <td>2319.500000</td>\n",
       "      <td>3.000000</td>\n",
       "      <td>3.000000</td>\n",
       "      <td>33.000000</td>\n",
       "      <td>1.000000</td>\n",
       "      <td>1.000000</td>\n",
       "      <td>1.000000</td>\n",
       "    </tr>\n",
       "    <tr>\n",
       "      <th>75%</th>\n",
       "      <td>24.000000</td>\n",
       "      <td>3972.250000</td>\n",
       "      <td>4.000000</td>\n",
       "      <td>4.000000</td>\n",
       "      <td>42.000000</td>\n",
       "      <td>2.000000</td>\n",
       "      <td>1.000000</td>\n",
       "      <td>2.000000</td>\n",
       "    </tr>\n",
       "    <tr>\n",
       "      <th>max</th>\n",
       "      <td>72.000000</td>\n",
       "      <td>18424.000000</td>\n",
       "      <td>4.000000</td>\n",
       "      <td>4.000000</td>\n",
       "      <td>75.000000</td>\n",
       "      <td>4.000000</td>\n",
       "      <td>2.000000</td>\n",
       "      <td>2.000000</td>\n",
       "    </tr>\n",
       "  </tbody>\n",
       "</table>\n",
       "</div>"
      ],
      "text/plain": [
       "          Duration        Amount  InstallmentRate  ResidenceSince  \\\n",
       "count  1000.000000   1000.000000      1000.000000     1000.000000   \n",
       "mean     20.903000   3271.258000         2.973000        2.845000   \n",
       "std      12.058814   2822.736876         1.118715        1.103718   \n",
       "min       4.000000    250.000000         1.000000        1.000000   \n",
       "25%      12.000000   1365.500000         2.000000        2.000000   \n",
       "50%      18.000000   2319.500000         3.000000        3.000000   \n",
       "75%      24.000000   3972.250000         4.000000        4.000000   \n",
       "max      72.000000  18424.000000         4.000000        4.000000   \n",
       "\n",
       "               Age  ExistingCredits  PeopleLiable        Class  \n",
       "count  1000.000000      1000.000000   1000.000000  1000.000000  \n",
       "mean     35.546000         1.407000      1.155000     1.300000  \n",
       "std      11.375469         0.577654      0.362086     0.458487  \n",
       "min      19.000000         1.000000      1.000000     1.000000  \n",
       "25%      27.000000         1.000000      1.000000     1.000000  \n",
       "50%      33.000000         1.000000      1.000000     1.000000  \n",
       "75%      42.000000         2.000000      1.000000     2.000000  \n",
       "max      75.000000         4.000000      2.000000     2.000000  "
      ]
     },
     "execution_count": 388,
     "metadata": {},
     "output_type": "execute_result"
    }
   ],
   "source": [
    "# Description des colonnes (médiane et moyenne)\n",
    "file.describe()"
   ]
  },
  {
   "cell_type": "code",
   "execution_count": 389,
   "metadata": {},
   "outputs": [
    {
     "data": {
      "text/plain": [
       "Duration           0.138880\n",
       "Amount             0.290946\n",
       "InstallmentRate    0.009082\n",
       "ResidenceSince     0.054482\n",
       "Age                0.071625\n",
       "ExistingCredits    0.289268\n",
       "PeopleLiable       0.134199\n",
       "Class              0.230769\n",
       "dtype: float64"
      ]
     },
     "execution_count": 389,
     "metadata": {},
     "output_type": "execute_result"
    }
   ],
   "source": [
    "((file.mean() - file.median()) / file.mean()).abs()"
   ]
  },
  {
   "cell_type": "markdown",
   "metadata": {},
   "source": [
    "## Data Processing "
   ]
  },
  {
   "cell_type": "code",
   "execution_count": 390,
   "metadata": {},
   "outputs": [],
   "source": [
    "# Class transformation \n",
    "file.Class.replace([1,2], [1,0], inplace=True)"
   ]
  },
  {
   "cell_type": "code",
   "execution_count": 391,
   "metadata": {},
   "outputs": [
    {
     "data": {
      "text/html": [
       "<div>\n",
       "<style scoped>\n",
       "    .dataframe tbody tr th:only-of-type {\n",
       "        vertical-align: middle;\n",
       "    }\n",
       "\n",
       "    .dataframe tbody tr th {\n",
       "        vertical-align: top;\n",
       "    }\n",
       "\n",
       "    .dataframe thead th {\n",
       "        text-align: right;\n",
       "    }\n",
       "</style>\n",
       "<table border=\"1\" class=\"dataframe\">\n",
       "  <thead>\n",
       "    <tr style=\"text-align: right;\">\n",
       "      <th></th>\n",
       "      <th>ExistingChecking</th>\n",
       "      <th>Duration</th>\n",
       "      <th>History</th>\n",
       "      <th>Purpose</th>\n",
       "      <th>Amount</th>\n",
       "      <th>Savings</th>\n",
       "      <th>EmploymentSince</th>\n",
       "      <th>InstallmentRate</th>\n",
       "      <th>StatusSex</th>\n",
       "      <th>OtherDebtors</th>\n",
       "      <th>...</th>\n",
       "      <th>Property</th>\n",
       "      <th>Age</th>\n",
       "      <th>OtherInstallmentPlans</th>\n",
       "      <th>Housing</th>\n",
       "      <th>ExistingCredits</th>\n",
       "      <th>Job</th>\n",
       "      <th>PeopleLiable</th>\n",
       "      <th>Telephone</th>\n",
       "      <th>ForeignWorker</th>\n",
       "      <th>Class</th>\n",
       "    </tr>\n",
       "  </thead>\n",
       "  <tbody>\n",
       "    <tr>\n",
       "      <th>0</th>\n",
       "      <td>A11</td>\n",
       "      <td>6</td>\n",
       "      <td>A34</td>\n",
       "      <td>A43</td>\n",
       "      <td>1169</td>\n",
       "      <td>A65</td>\n",
       "      <td>A75</td>\n",
       "      <td>4</td>\n",
       "      <td>A93</td>\n",
       "      <td>A101</td>\n",
       "      <td>...</td>\n",
       "      <td>A121</td>\n",
       "      <td>67</td>\n",
       "      <td>A143</td>\n",
       "      <td>A152</td>\n",
       "      <td>2</td>\n",
       "      <td>A173</td>\n",
       "      <td>1</td>\n",
       "      <td>A192</td>\n",
       "      <td>A201</td>\n",
       "      <td>1</td>\n",
       "    </tr>\n",
       "    <tr>\n",
       "      <th>1</th>\n",
       "      <td>A12</td>\n",
       "      <td>48</td>\n",
       "      <td>A32</td>\n",
       "      <td>A43</td>\n",
       "      <td>5951</td>\n",
       "      <td>A61</td>\n",
       "      <td>A73</td>\n",
       "      <td>2</td>\n",
       "      <td>A92</td>\n",
       "      <td>A101</td>\n",
       "      <td>...</td>\n",
       "      <td>A121</td>\n",
       "      <td>22</td>\n",
       "      <td>A143</td>\n",
       "      <td>A152</td>\n",
       "      <td>1</td>\n",
       "      <td>A173</td>\n",
       "      <td>1</td>\n",
       "      <td>A191</td>\n",
       "      <td>A201</td>\n",
       "      <td>0</td>\n",
       "    </tr>\n",
       "    <tr>\n",
       "      <th>2</th>\n",
       "      <td>A14</td>\n",
       "      <td>12</td>\n",
       "      <td>A34</td>\n",
       "      <td>A46</td>\n",
       "      <td>2096</td>\n",
       "      <td>A61</td>\n",
       "      <td>A74</td>\n",
       "      <td>2</td>\n",
       "      <td>A93</td>\n",
       "      <td>A101</td>\n",
       "      <td>...</td>\n",
       "      <td>A121</td>\n",
       "      <td>49</td>\n",
       "      <td>A143</td>\n",
       "      <td>A152</td>\n",
       "      <td>1</td>\n",
       "      <td>A172</td>\n",
       "      <td>2</td>\n",
       "      <td>A191</td>\n",
       "      <td>A201</td>\n",
       "      <td>1</td>\n",
       "    </tr>\n",
       "    <tr>\n",
       "      <th>3</th>\n",
       "      <td>A11</td>\n",
       "      <td>42</td>\n",
       "      <td>A32</td>\n",
       "      <td>A42</td>\n",
       "      <td>7882</td>\n",
       "      <td>A61</td>\n",
       "      <td>A74</td>\n",
       "      <td>2</td>\n",
       "      <td>A93</td>\n",
       "      <td>A103</td>\n",
       "      <td>...</td>\n",
       "      <td>A122</td>\n",
       "      <td>45</td>\n",
       "      <td>A143</td>\n",
       "      <td>A153</td>\n",
       "      <td>1</td>\n",
       "      <td>A173</td>\n",
       "      <td>2</td>\n",
       "      <td>A191</td>\n",
       "      <td>A201</td>\n",
       "      <td>1</td>\n",
       "    </tr>\n",
       "    <tr>\n",
       "      <th>4</th>\n",
       "      <td>A11</td>\n",
       "      <td>24</td>\n",
       "      <td>A33</td>\n",
       "      <td>A40</td>\n",
       "      <td>4870</td>\n",
       "      <td>A61</td>\n",
       "      <td>A73</td>\n",
       "      <td>3</td>\n",
       "      <td>A93</td>\n",
       "      <td>A101</td>\n",
       "      <td>...</td>\n",
       "      <td>A124</td>\n",
       "      <td>53</td>\n",
       "      <td>A143</td>\n",
       "      <td>A153</td>\n",
       "      <td>2</td>\n",
       "      <td>A173</td>\n",
       "      <td>2</td>\n",
       "      <td>A191</td>\n",
       "      <td>A201</td>\n",
       "      <td>0</td>\n",
       "    </tr>\n",
       "  </tbody>\n",
       "</table>\n",
       "<p>5 rows × 21 columns</p>\n",
       "</div>"
      ],
      "text/plain": [
       "  ExistingChecking  Duration History Purpose  Amount Savings EmploymentSince  \\\n",
       "0              A11         6     A34     A43    1169     A65             A75   \n",
       "1              A12        48     A32     A43    5951     A61             A73   \n",
       "2              A14        12     A34     A46    2096     A61             A74   \n",
       "3              A11        42     A32     A42    7882     A61             A74   \n",
       "4              A11        24     A33     A40    4870     A61             A73   \n",
       "\n",
       "   InstallmentRate StatusSex OtherDebtors  ...  Property Age  \\\n",
       "0                4       A93         A101  ...      A121  67   \n",
       "1                2       A92         A101  ...      A121  22   \n",
       "2                2       A93         A101  ...      A121  49   \n",
       "3                2       A93         A103  ...      A122  45   \n",
       "4                3       A93         A101  ...      A124  53   \n",
       "\n",
       "   OtherInstallmentPlans Housing ExistingCredits   Job PeopleLiable  \\\n",
       "0                   A143    A152               2  A173            1   \n",
       "1                   A143    A152               1  A173            1   \n",
       "2                   A143    A152               1  A172            2   \n",
       "3                   A143    A153               1  A173            2   \n",
       "4                   A143    A153               2  A173            2   \n",
       "\n",
       "   Telephone ForeignWorker Class  \n",
       "0       A192          A201     1  \n",
       "1       A191          A201     0  \n",
       "2       A191          A201     1  \n",
       "3       A191          A201     1  \n",
       "4       A191          A201     0  \n",
       "\n",
       "[5 rows x 21 columns]"
      ]
     },
     "execution_count": 391,
     "metadata": {},
     "output_type": "execute_result"
    }
   ],
   "source": [
    "file.head()"
   ]
  },
  {
   "cell_type": "markdown",
   "metadata": {},
   "source": [
    "### Rescaling avec la valeur moyenne et l'ecart-type (Standard Scaler) "
   ]
  },
  {
   "cell_type": "code",
   "execution_count": 392,
   "metadata": {},
   "outputs": [],
   "source": [
    "from sklearn.preprocessing import StandardScaler \n",
    "ss = StandardScaler()"
   ]
  },
  {
   "cell_type": "code",
   "execution_count": 393,
   "metadata": {},
   "outputs": [],
   "source": [
    "quanti = file[['Amount', 'Duration', 'InstallmentRate', 'ResidenceSince', 'Age', \n",
    "           'ExistingCredits', 'PeopleLiable', 'Class']]"
   ]
  },
  {
   "cell_type": "code",
   "execution_count": 394,
   "metadata": {},
   "outputs": [
    {
     "data": {
      "text/html": [
       "<div>\n",
       "<style scoped>\n",
       "    .dataframe tbody tr th:only-of-type {\n",
       "        vertical-align: middle;\n",
       "    }\n",
       "\n",
       "    .dataframe tbody tr th {\n",
       "        vertical-align: top;\n",
       "    }\n",
       "\n",
       "    .dataframe thead th {\n",
       "        text-align: right;\n",
       "    }\n",
       "</style>\n",
       "<table border=\"1\" class=\"dataframe\">\n",
       "  <thead>\n",
       "    <tr style=\"text-align: right;\">\n",
       "      <th></th>\n",
       "      <th>Amount</th>\n",
       "      <th>Duration</th>\n",
       "      <th>InstallmentRate</th>\n",
       "      <th>ResidenceSince</th>\n",
       "      <th>Age</th>\n",
       "      <th>ExistingCredits</th>\n",
       "      <th>PeopleLiable</th>\n",
       "      <th>Class</th>\n",
       "    </tr>\n",
       "  </thead>\n",
       "  <tbody>\n",
       "    <tr>\n",
       "      <th>0</th>\n",
       "      <td>1169</td>\n",
       "      <td>6</td>\n",
       "      <td>4</td>\n",
       "      <td>4</td>\n",
       "      <td>67</td>\n",
       "      <td>2</td>\n",
       "      <td>1</td>\n",
       "      <td>1</td>\n",
       "    </tr>\n",
       "    <tr>\n",
       "      <th>1</th>\n",
       "      <td>5951</td>\n",
       "      <td>48</td>\n",
       "      <td>2</td>\n",
       "      <td>2</td>\n",
       "      <td>22</td>\n",
       "      <td>1</td>\n",
       "      <td>1</td>\n",
       "      <td>0</td>\n",
       "    </tr>\n",
       "    <tr>\n",
       "      <th>2</th>\n",
       "      <td>2096</td>\n",
       "      <td>12</td>\n",
       "      <td>2</td>\n",
       "      <td>3</td>\n",
       "      <td>49</td>\n",
       "      <td>1</td>\n",
       "      <td>2</td>\n",
       "      <td>1</td>\n",
       "    </tr>\n",
       "    <tr>\n",
       "      <th>3</th>\n",
       "      <td>7882</td>\n",
       "      <td>42</td>\n",
       "      <td>2</td>\n",
       "      <td>4</td>\n",
       "      <td>45</td>\n",
       "      <td>1</td>\n",
       "      <td>2</td>\n",
       "      <td>1</td>\n",
       "    </tr>\n",
       "    <tr>\n",
       "      <th>4</th>\n",
       "      <td>4870</td>\n",
       "      <td>24</td>\n",
       "      <td>3</td>\n",
       "      <td>4</td>\n",
       "      <td>53</td>\n",
       "      <td>2</td>\n",
       "      <td>2</td>\n",
       "      <td>0</td>\n",
       "    </tr>\n",
       "  </tbody>\n",
       "</table>\n",
       "</div>"
      ],
      "text/plain": [
       "   Amount  Duration  InstallmentRate  ResidenceSince  Age  ExistingCredits  \\\n",
       "0    1169         6                4               4   67                2   \n",
       "1    5951        48                2               2   22                1   \n",
       "2    2096        12                2               3   49                1   \n",
       "3    7882        42                2               4   45                1   \n",
       "4    4870        24                3               4   53                2   \n",
       "\n",
       "   PeopleLiable  Class  \n",
       "0             1      1  \n",
       "1             1      0  \n",
       "2             2      1  \n",
       "3             2      1  \n",
       "4             2      0  "
      ]
     },
     "execution_count": 394,
     "metadata": {},
     "output_type": "execute_result"
    }
   ],
   "source": [
    "#matrice_cr= ss.fit_transform(quanti)\n",
    "quanti.head()"
   ]
  },
  {
   "cell_type": "code",
   "execution_count": 395,
   "metadata": {},
   "outputs": [
    {
     "data": {
      "image/png": "[encoded data removed]",
      "text/plain": [
       "<Figure size 720x720 with 9 Axes>"
      ]
     },
     "metadata": {
      "needs_background": "light"
     },
     "output_type": "display_data"
    }
   ],
   "source": [
    "pd.DataFrame(matrice_cr).hist(figsize=(10,10));"
   ]
  },
  {
   "cell_type": "markdown",
   "metadata": {},
   "source": [
    "### Rescaling avec la mediane et le quartile Q1 (Robust Scaler ) "
   ]
  },
  {
   "cell_type": "code",
   "execution_count": 396,
   "metadata": {},
   "outputs": [],
   "source": [
    "from sklearn.preprocessing import RobustScaler \n",
    "rs = RobustScaler()"
   ]
  },
  {
   "cell_type": "code",
   "execution_count": 397,
   "metadata": {},
   "outputs": [],
   "source": [
    "matrice_mediane= rs.fit_transform(quanti.values)"
   ]
  },
  {
   "cell_type": "code",
   "execution_count": 398,
   "metadata": {},
   "outputs": [
    {
     "data": {
      "text/html": [
       "<div>\n",
       "<style scoped>\n",
       "    .dataframe tbody tr th:only-of-type {\n",
       "        vertical-align: middle;\n",
       "    }\n",
       "\n",
       "    .dataframe tbody tr th {\n",
       "        vertical-align: top;\n",
       "    }\n",
       "\n",
       "    .dataframe thead th {\n",
       "        text-align: right;\n",
       "    }\n",
       "</style>\n",
       "<table border=\"1\" class=\"dataframe\">\n",
       "  <thead>\n",
       "    <tr style=\"text-align: right;\">\n",
       "      <th></th>\n",
       "      <th>Amount</th>\n",
       "      <th>Duration</th>\n",
       "      <th>InstallmentRate</th>\n",
       "      <th>ResidenceSince</th>\n",
       "      <th>Age</th>\n",
       "      <th>ExistingCredits</th>\n",
       "      <th>PeopleLiable</th>\n",
       "      <th>Class</th>\n",
       "    </tr>\n",
       "  </thead>\n",
       "  <tbody>\n",
       "    <tr>\n",
       "      <th>0</th>\n",
       "      <td>1169</td>\n",
       "      <td>6</td>\n",
       "      <td>4</td>\n",
       "      <td>4</td>\n",
       "      <td>67</td>\n",
       "      <td>2</td>\n",
       "      <td>1</td>\n",
       "      <td>1</td>\n",
       "    </tr>\n",
       "    <tr>\n",
       "      <th>1</th>\n",
       "      <td>5951</td>\n",
       "      <td>48</td>\n",
       "      <td>2</td>\n",
       "      <td>2</td>\n",
       "      <td>22</td>\n",
       "      <td>1</td>\n",
       "      <td>1</td>\n",
       "      <td>0</td>\n",
       "    </tr>\n",
       "    <tr>\n",
       "      <th>2</th>\n",
       "      <td>2096</td>\n",
       "      <td>12</td>\n",
       "      <td>2</td>\n",
       "      <td>3</td>\n",
       "      <td>49</td>\n",
       "      <td>1</td>\n",
       "      <td>2</td>\n",
       "      <td>1</td>\n",
       "    </tr>\n",
       "    <tr>\n",
       "      <th>3</th>\n",
       "      <td>7882</td>\n",
       "      <td>42</td>\n",
       "      <td>2</td>\n",
       "      <td>4</td>\n",
       "      <td>45</td>\n",
       "      <td>1</td>\n",
       "      <td>2</td>\n",
       "      <td>1</td>\n",
       "    </tr>\n",
       "    <tr>\n",
       "      <th>4</th>\n",
       "      <td>4870</td>\n",
       "      <td>24</td>\n",
       "      <td>3</td>\n",
       "      <td>4</td>\n",
       "      <td>53</td>\n",
       "      <td>2</td>\n",
       "      <td>2</td>\n",
       "      <td>0</td>\n",
       "    </tr>\n",
       "  </tbody>\n",
       "</table>\n",
       "</div>"
      ],
      "text/plain": [
       "   Amount  Duration  InstallmentRate  ResidenceSince  Age  ExistingCredits  \\\n",
       "0    1169         6                4               4   67                2   \n",
       "1    5951        48                2               2   22                1   \n",
       "2    2096        12                2               3   49                1   \n",
       "3    7882        42                2               4   45                1   \n",
       "4    4870        24                3               4   53                2   \n",
       "\n",
       "   PeopleLiable  Class  \n",
       "0             1      1  \n",
       "1             1      0  \n",
       "2             2      1  \n",
       "3             2      1  \n",
       "4             2      0  "
      ]
     },
     "execution_count": 398,
     "metadata": {},
     "output_type": "execute_result"
    }
   ],
   "source": [
    "quanti.head()"
   ]
  },
  {
   "cell_type": "code",
   "execution_count": 399,
   "metadata": {},
   "outputs": [
    {
     "data": {
      "image/png": "[encoded data removed]",
      "text/plain": [
       "<Figure size 720x720 with 9 Axes>"
      ]
     },
     "metadata": {
      "needs_background": "light"
     },
     "output_type": "display_data"
    }
   ],
   "source": [
    "pd.DataFrame(matrice_mediane).hist(figsize=(10,10));"
   ]
  },
  {
   "cell_type": "markdown",
   "metadata": {},
   "source": [
    "### Encodage des variables qualitatives "
   ]
  },
  {
   "cell_type": "markdown",
   "metadata": {},
   "source": [
    "#### Label encoder pour les variables à deux modalités "
   ]
  },
  {
   "cell_type": "code",
   "execution_count": 401,
   "metadata": {},
   "outputs": [],
   "source": [
    "tel = file[[\"Telephone\"]]"
   ]
  },
  {
   "cell_type": "code",
   "execution_count": 402,
   "metadata": {},
   "outputs": [],
   "source": [
    "from sklearn.preprocessing import LabelEncoder\n",
    "label_encoder= LabelEncoder()"
   ]
  },
  {
   "cell_type": "code",
   "execution_count": 403,
   "metadata": {},
   "outputs": [
    {
     "name": "stderr",
     "output_type": "stream",
     "text": [
      "C:\\Users\\chaym\\Anaconda3\\lib\\site-packages\\sklearn\\preprocessing\\label.py:235: DataConversionWarning: A column-vector y was passed when a 1d array was expected. Please change the shape of y to (n_samples, ), for example using ravel().\n",
      "  y = column_or_1d(y, warn=True)\n"
     ]
    }
   ],
   "source": [
    "telephone=label_encoder.fit_transform(tel.values) #appliquer LabelEncoder "
   ]
  },
  {
   "cell_type": "code",
   "execution_count": 404,
   "metadata": {},
   "outputs": [],
   "source": [
    "foreign= label_encoder.fit_transform(file[\"ForeignWorker\"].values)"
   ]
  },
  {
   "cell_type": "markdown",
   "metadata": {},
   "source": [
    "#### One hot encoder pour les variables à plusieurs modalités "
   ]
  },
  {
   "cell_type": "code",
   "execution_count": 406,
   "metadata": {},
   "outputs": [],
   "source": [
    "from sklearn.preprocessing import OneHotEncoder\n",
    "onehot= OneHotEncoder()"
   ]
  },
  {
   "cell_type": "code",
   "execution_count": 407,
   "metadata": {},
   "outputs": [],
   "source": [
    "data= file[[\"ExistingChecking\",\"History\",\"Purpose\",\"Savings\",\"EmploymentSince\",\"StatusSex\",\"OtherDebtors\",\n",
    "           \"Property\",\"OtherInstallmentPlans\",\"Housing\",\"Job\"]]"
   ]
  },
  {
   "cell_type": "code",
   "execution_count": 408,
   "metadata": {},
   "outputs": [],
   "source": [
    "existingChecking;"
   ]
  },
  {
   "cell_type": "code",
   "execution_count": 409,
   "metadata": {},
   "outputs": [],
   "source": [
    "dat= file[[\"ExistingChecking\",\"History\",\"Purpose\",\"Savings\",\"EmploymentSince\",\"StatusSex\",\"OtherDebtors\",\n",
    "           \"Property\",\"OtherInstallmentPlans\",\"Housing\",\"Job\",\"Telephone\",\"ForeignWorker\"]]"
   ]
  },
  {
   "cell_type": "code",
   "execution_count": 410,
   "metadata": {},
   "outputs": [],
   "source": [
    "dummyvars = pd.get_dummies(dat)"
   ]
  },
  {
   "cell_type": "code",
   "execution_count": 411,
   "metadata": {},
   "outputs": [],
   "source": [
    "dummyvars;"
   ]
  },
  {
   "cell_type": "code",
   "execution_count": 412,
   "metadata": {},
   "outputs": [],
   "source": [
    "#existingChecking = pd.DataFrame(onehot.fit_transform(data[\"ExistingChecking\"].values.reshape(-1,1)))"
   ]
  },
  {
   "cell_type": "code",
   "execution_count": 413,
   "metadata": {},
   "outputs": [],
   "source": [
    "#History= pd.DataFrame(onehot.fit_transform(data[\"History\"].values.reshape(-1,1)))"
   ]
  },
  {
   "cell_type": "code",
   "execution_count": 414,
   "metadata": {},
   "outputs": [],
   "source": [
    "#Purpose= pd.DataFrame(onehot.fit_transform(data[\"Purpose\"].values.reshape(-1,1)))"
   ]
  },
  {
   "cell_type": "code",
   "execution_count": 415,
   "metadata": {},
   "outputs": [],
   "source": [
    "#Savings= pd.DataFrame(onehot.fit_transform(data[\"Savings\"].values.reshape(-1,1)))"
   ]
  },
  {
   "cell_type": "code",
   "execution_count": 416,
   "metadata": {},
   "outputs": [],
   "source": [
    "#EmploymentSince = pd.DataFrame(onehot.fit_transform(data[\"EmploymentSince\"].values.reshape(-1,1)))"
   ]
  },
  {
   "cell_type": "code",
   "execution_count": 417,
   "metadata": {},
   "outputs": [],
   "source": [
    "#StatusSex = pd.DataFrame(onehot.fit_transform(data[\"StatusSex\"].values.reshape(-1,1)))"
   ]
  },
  {
   "cell_type": "code",
   "execution_count": 418,
   "metadata": {},
   "outputs": [],
   "source": [
    "#OtherDebtors = pd.DataFrame(onehot.fit_transform(data[\"OtherDebtors\"].values.reshape(-1,1)))"
   ]
  },
  {
   "cell_type": "code",
   "execution_count": 419,
   "metadata": {},
   "outputs": [],
   "source": [
    "#Property = pd.DataFrame(onehot.fit_transform(data[\"Property\"].values.reshape(-1,1)))"
   ]
  },
  {
   "cell_type": "code",
   "execution_count": 420,
   "metadata": {},
   "outputs": [],
   "source": [
    "#OtherInstallmentPlans = pd.DataFrame(onehot.fit_transform(data[\"OtherInstallmentPlans\"].values.reshape(-1,1)))"
   ]
  },
  {
   "cell_type": "code",
   "execution_count": 421,
   "metadata": {},
   "outputs": [],
   "source": [
    "#Job = pd.DataFrame(onehot.fit_transform(data[\"Job\"].values.reshape(-1,1)))"
   ]
  },
  {
   "cell_type": "code",
   "execution_count": 422,
   "metadata": {},
   "outputs": [],
   "source": [
    "existingChecking= pd.DataFrame(pd.factorize(data[\"ExistingChecking\"])[0])"
   ]
  },
  {
   "cell_type": "code",
   "execution_count": 423,
   "metadata": {},
   "outputs": [],
   "source": [
    "Housing = pd.DataFrame(pd.factorize(data[\"Housing\"])[0])"
   ]
  },
  {
   "cell_type": "code",
   "execution_count": null,
   "metadata": {},
   "outputs": [],
   "source": []
  },
  {
   "cell_type": "code",
   "execution_count": 424,
   "metadata": {},
   "outputs": [],
   "source": [
    "History=  pd.DataFrame(pd.factorize(data[\"History\"])[0])"
   ]
  },
  {
   "cell_type": "code",
   "execution_count": 425,
   "metadata": {},
   "outputs": [],
   "source": [
    "Purpose= pd.DataFrame(pd.factorize(data[\"Purpose\"])[0])"
   ]
  },
  {
   "cell_type": "code",
   "execution_count": 426,
   "metadata": {},
   "outputs": [],
   "source": [
    "Savings= pd.DataFrame(pd.factorize(data[\"Savings\"])[0])"
   ]
  },
  {
   "cell_type": "code",
   "execution_count": 427,
   "metadata": {},
   "outputs": [],
   "source": [
    "EmploymentSince=pd.DataFrame(pd.factorize(data[\"EmploymentSince\"])[0])"
   ]
  },
  {
   "cell_type": "code",
   "execution_count": 428,
   "metadata": {},
   "outputs": [],
   "source": [
    "StatusSex = pd.DataFrame(pd.factorize(data[\"StatusSex\"])[0])"
   ]
  },
  {
   "cell_type": "code",
   "execution_count": 429,
   "metadata": {},
   "outputs": [],
   "source": [
    "OtherDebtors = pd.DataFrame(pd.factorize(data[\"OtherDebtors\"])[0])"
   ]
  },
  {
   "cell_type": "code",
   "execution_count": 430,
   "metadata": {},
   "outputs": [],
   "source": [
    "Property  = pd.DataFrame(pd.factorize(data[\"Property\"])[0])"
   ]
  },
  {
   "cell_type": "code",
   "execution_count": 431,
   "metadata": {},
   "outputs": [],
   "source": [
    "OtherInstallmentPlans  = pd.DataFrame(pd.factorize(data[\"OtherInstallmentPlans\"])[0])"
   ]
  },
  {
   "cell_type": "code",
   "execution_count": 432,
   "metadata": {},
   "outputs": [],
   "source": [
    "Job   = pd.DataFrame(pd.factorize(data[\"Job\"])[0])"
   ]
  },
  {
   "cell_type": "code",
   "execution_count": 433,
   "metadata": {},
   "outputs": [],
   "source": [
    "quali = pd.concat([existingChecking, History,Purpose,Savings,EmploymentSince,StatusSex,OtherDebtors,Property,OtherInstallmentPlans,Housing,Job], axis = 1)"
   ]
  },
  {
   "cell_type": "code",
   "execution_count": 434,
   "metadata": {},
   "outputs": [
    {
     "data": {
      "text/html": [
       "<div>\n",
       "<style scoped>\n",
       "    .dataframe tbody tr th:only-of-type {\n",
       "        vertical-align: middle;\n",
       "    }\n",
       "\n",
       "    .dataframe tbody tr th {\n",
       "        vertical-align: top;\n",
       "    }\n",
       "\n",
       "    .dataframe thead th {\n",
       "        text-align: right;\n",
       "    }\n",
       "</style>\n",
       "<table border=\"1\" class=\"dataframe\">\n",
       "  <thead>\n",
       "    <tr style=\"text-align: right;\">\n",
       "      <th></th>\n",
       "      <th>0</th>\n",
       "      <th>0</th>\n",
       "      <th>0</th>\n",
       "      <th>0</th>\n",
       "      <th>0</th>\n",
       "      <th>0</th>\n",
       "      <th>0</th>\n",
       "      <th>0</th>\n",
       "      <th>0</th>\n",
       "      <th>0</th>\n",
       "      <th>0</th>\n",
       "    </tr>\n",
       "  </thead>\n",
       "  <tbody>\n",
       "    <tr>\n",
       "      <th>0</th>\n",
       "      <td>0</td>\n",
       "      <td>0</td>\n",
       "      <td>0</td>\n",
       "      <td>0</td>\n",
       "      <td>0</td>\n",
       "      <td>0</td>\n",
       "      <td>0</td>\n",
       "      <td>0</td>\n",
       "      <td>0</td>\n",
       "      <td>0</td>\n",
       "      <td>0</td>\n",
       "    </tr>\n",
       "    <tr>\n",
       "      <th>1</th>\n",
       "      <td>1</td>\n",
       "      <td>1</td>\n",
       "      <td>0</td>\n",
       "      <td>1</td>\n",
       "      <td>1</td>\n",
       "      <td>1</td>\n",
       "      <td>0</td>\n",
       "      <td>0</td>\n",
       "      <td>0</td>\n",
       "      <td>0</td>\n",
       "      <td>0</td>\n",
       "    </tr>\n",
       "    <tr>\n",
       "      <th>2</th>\n",
       "      <td>2</td>\n",
       "      <td>0</td>\n",
       "      <td>1</td>\n",
       "      <td>1</td>\n",
       "      <td>2</td>\n",
       "      <td>0</td>\n",
       "      <td>0</td>\n",
       "      <td>0</td>\n",
       "      <td>0</td>\n",
       "      <td>0</td>\n",
       "      <td>1</td>\n",
       "    </tr>\n",
       "    <tr>\n",
       "      <th>3</th>\n",
       "      <td>0</td>\n",
       "      <td>1</td>\n",
       "      <td>2</td>\n",
       "      <td>1</td>\n",
       "      <td>2</td>\n",
       "      <td>0</td>\n",
       "      <td>1</td>\n",
       "      <td>1</td>\n",
       "      <td>0</td>\n",
       "      <td>1</td>\n",
       "      <td>0</td>\n",
       "    </tr>\n",
       "    <tr>\n",
       "      <th>4</th>\n",
       "      <td>0</td>\n",
       "      <td>2</td>\n",
       "      <td>3</td>\n",
       "      <td>1</td>\n",
       "      <td>1</td>\n",
       "      <td>0</td>\n",
       "      <td>0</td>\n",
       "      <td>2</td>\n",
       "      <td>0</td>\n",
       "      <td>1</td>\n",
       "      <td>0</td>\n",
       "    </tr>\n",
       "  </tbody>\n",
       "</table>\n",
       "</div>"
      ],
      "text/plain": [
       "   0  0  0  0  0  0  0  0  0  0  0\n",
       "0  0  0  0  0  0  0  0  0  0  0  0\n",
       "1  1  1  0  1  1  1  0  0  0  0  0\n",
       "2  2  0  1  1  2  0  0  0  0  0  1\n",
       "3  0  1  2  1  2  0  1  1  0  1  0\n",
       "4  0  2  3  1  1  0  0  2  0  1  0"
      ]
     },
     "execution_count": 434,
     "metadata": {},
     "output_type": "execute_result"
    }
   ],
   "source": [
    "quali.head()"
   ]
  },
  {
   "cell_type": "code",
   "execution_count": 435,
   "metadata": {},
   "outputs": [],
   "source": [
    "# Concatenation des variables qualitatives \n",
    "quali = pd.concat([quali,pd.DataFrame(telephone),pd.DataFrame(foreign)], axis = 1)"
   ]
  },
  {
   "cell_type": "code",
   "execution_count": 436,
   "metadata": {},
   "outputs": [
    {
     "data": {
      "text/html": [
       "<div>\n",
       "<style scoped>\n",
       "    .dataframe tbody tr th:only-of-type {\n",
       "        vertical-align: middle;\n",
       "    }\n",
       "\n",
       "    .dataframe tbody tr th {\n",
       "        vertical-align: top;\n",
       "    }\n",
       "\n",
       "    .dataframe thead th {\n",
       "        text-align: right;\n",
       "    }\n",
       "</style>\n",
       "<table border=\"1\" class=\"dataframe\">\n",
       "  <thead>\n",
       "    <tr style=\"text-align: right;\">\n",
       "      <th></th>\n",
       "      <th>0</th>\n",
       "      <th>0</th>\n",
       "      <th>0</th>\n",
       "      <th>0</th>\n",
       "      <th>0</th>\n",
       "      <th>0</th>\n",
       "      <th>0</th>\n",
       "      <th>0</th>\n",
       "      <th>0</th>\n",
       "      <th>0</th>\n",
       "      <th>0</th>\n",
       "      <th>0</th>\n",
       "      <th>0</th>\n",
       "    </tr>\n",
       "  </thead>\n",
       "  <tbody>\n",
       "    <tr>\n",
       "      <th>0</th>\n",
       "      <td>0</td>\n",
       "      <td>0</td>\n",
       "      <td>0</td>\n",
       "      <td>0</td>\n",
       "      <td>0</td>\n",
       "      <td>0</td>\n",
       "      <td>0</td>\n",
       "      <td>0</td>\n",
       "      <td>0</td>\n",
       "      <td>0</td>\n",
       "      <td>0</td>\n",
       "      <td>1</td>\n",
       "      <td>0</td>\n",
       "    </tr>\n",
       "    <tr>\n",
       "      <th>1</th>\n",
       "      <td>1</td>\n",
       "      <td>1</td>\n",
       "      <td>0</td>\n",
       "      <td>1</td>\n",
       "      <td>1</td>\n",
       "      <td>1</td>\n",
       "      <td>0</td>\n",
       "      <td>0</td>\n",
       "      <td>0</td>\n",
       "      <td>0</td>\n",
       "      <td>0</td>\n",
       "      <td>0</td>\n",
       "      <td>0</td>\n",
       "    </tr>\n",
       "    <tr>\n",
       "      <th>2</th>\n",
       "      <td>2</td>\n",
       "      <td>0</td>\n",
       "      <td>1</td>\n",
       "      <td>1</td>\n",
       "      <td>2</td>\n",
       "      <td>0</td>\n",
       "      <td>0</td>\n",
       "      <td>0</td>\n",
       "      <td>0</td>\n",
       "      <td>0</td>\n",
       "      <td>1</td>\n",
       "      <td>0</td>\n",
       "      <td>0</td>\n",
       "    </tr>\n",
       "    <tr>\n",
       "      <th>3</th>\n",
       "      <td>0</td>\n",
       "      <td>1</td>\n",
       "      <td>2</td>\n",
       "      <td>1</td>\n",
       "      <td>2</td>\n",
       "      <td>0</td>\n",
       "      <td>1</td>\n",
       "      <td>1</td>\n",
       "      <td>0</td>\n",
       "      <td>1</td>\n",
       "      <td>0</td>\n",
       "      <td>0</td>\n",
       "      <td>0</td>\n",
       "    </tr>\n",
       "    <tr>\n",
       "      <th>4</th>\n",
       "      <td>0</td>\n",
       "      <td>2</td>\n",
       "      <td>3</td>\n",
       "      <td>1</td>\n",
       "      <td>1</td>\n",
       "      <td>0</td>\n",
       "      <td>0</td>\n",
       "      <td>2</td>\n",
       "      <td>0</td>\n",
       "      <td>1</td>\n",
       "      <td>0</td>\n",
       "      <td>0</td>\n",
       "      <td>0</td>\n",
       "    </tr>\n",
       "  </tbody>\n",
       "</table>\n",
       "</div>"
      ],
      "text/plain": [
       "   0  0  0  0  0  0  0  0  0  0  0  0  0\n",
       "0  0  0  0  0  0  0  0  0  0  0  0  1  0\n",
       "1  1  1  0  1  1  1  0  0  0  0  0  0  0\n",
       "2  2  0  1  1  2  0  0  0  0  0  1  0  0\n",
       "3  0  1  2  1  2  0  1  1  0  1  0  0  0\n",
       "4  0  2  3  1  1  0  0  2  0  1  0  0  0"
      ]
     },
     "execution_count": 436,
     "metadata": {},
     "output_type": "execute_result"
    }
   ],
   "source": [
    "quali.head()"
   ]
  },
  {
   "cell_type": "code",
   "execution_count": 437,
   "metadata": {},
   "outputs": [],
   "source": [
    "# Attribution des noms aux colonnes \n",
    "quali.columns=[\"ExistingChecking\",\"History\",\"Purpose\",\"Savings\",\"EmploymentSince\",\"StatusSex\",\"OtherDebtors\",\n",
    "           \"Property\",\"OtherInstallmentPlans\",\"Housing\",\"Job\",'Telephone', 'ForeignWorker']"
   ]
  },
  {
   "cell_type": "code",
   "execution_count": 438,
   "metadata": {},
   "outputs": [],
   "source": [
    "# Concatenation des variables qualitatives et quantitaves \n",
    "final_data=pd.concat([quali,quanti], axis = 1)"
   ]
  },
  {
   "cell_type": "code",
   "execution_count": 439,
   "metadata": {},
   "outputs": [
    {
     "data": {
      "text/html": [
       "<div>\n",
       "<style scoped>\n",
       "    .dataframe tbody tr th:only-of-type {\n",
       "        vertical-align: middle;\n",
       "    }\n",
       "\n",
       "    .dataframe tbody tr th {\n",
       "        vertical-align: top;\n",
       "    }\n",
       "\n",
       "    .dataframe thead th {\n",
       "        text-align: right;\n",
       "    }\n",
       "</style>\n",
       "<table border=\"1\" class=\"dataframe\">\n",
       "  <thead>\n",
       "    <tr style=\"text-align: right;\">\n",
       "      <th></th>\n",
       "      <th>ExistingChecking</th>\n",
       "      <th>History</th>\n",
       "      <th>Purpose</th>\n",
       "      <th>Savings</th>\n",
       "      <th>EmploymentSince</th>\n",
       "      <th>StatusSex</th>\n",
       "      <th>OtherDebtors</th>\n",
       "      <th>Property</th>\n",
       "      <th>OtherInstallmentPlans</th>\n",
       "      <th>Housing</th>\n",
       "      <th>...</th>\n",
       "      <th>Telephone</th>\n",
       "      <th>ForeignWorker</th>\n",
       "      <th>Amount</th>\n",
       "      <th>Duration</th>\n",
       "      <th>InstallmentRate</th>\n",
       "      <th>ResidenceSince</th>\n",
       "      <th>Age</th>\n",
       "      <th>ExistingCredits</th>\n",
       "      <th>PeopleLiable</th>\n",
       "      <th>Class</th>\n",
       "    </tr>\n",
       "  </thead>\n",
       "  <tbody>\n",
       "    <tr>\n",
       "      <th>0</th>\n",
       "      <td>0</td>\n",
       "      <td>0</td>\n",
       "      <td>0</td>\n",
       "      <td>0</td>\n",
       "      <td>0</td>\n",
       "      <td>0</td>\n",
       "      <td>0</td>\n",
       "      <td>0</td>\n",
       "      <td>0</td>\n",
       "      <td>0</td>\n",
       "      <td>...</td>\n",
       "      <td>1</td>\n",
       "      <td>0</td>\n",
       "      <td>1169</td>\n",
       "      <td>6</td>\n",
       "      <td>4</td>\n",
       "      <td>4</td>\n",
       "      <td>67</td>\n",
       "      <td>2</td>\n",
       "      <td>1</td>\n",
       "      <td>1</td>\n",
       "    </tr>\n",
       "    <tr>\n",
       "      <th>1</th>\n",
       "      <td>1</td>\n",
       "      <td>1</td>\n",
       "      <td>0</td>\n",
       "      <td>1</td>\n",
       "      <td>1</td>\n",
       "      <td>1</td>\n",
       "      <td>0</td>\n",
       "      <td>0</td>\n",
       "      <td>0</td>\n",
       "      <td>0</td>\n",
       "      <td>...</td>\n",
       "      <td>0</td>\n",
       "      <td>0</td>\n",
       "      <td>5951</td>\n",
       "      <td>48</td>\n",
       "      <td>2</td>\n",
       "      <td>2</td>\n",
       "      <td>22</td>\n",
       "      <td>1</td>\n",
       "      <td>1</td>\n",
       "      <td>0</td>\n",
       "    </tr>\n",
       "    <tr>\n",
       "      <th>2</th>\n",
       "      <td>2</td>\n",
       "      <td>0</td>\n",
       "      <td>1</td>\n",
       "      <td>1</td>\n",
       "      <td>2</td>\n",
       "      <td>0</td>\n",
       "      <td>0</td>\n",
       "      <td>0</td>\n",
       "      <td>0</td>\n",
       "      <td>0</td>\n",
       "      <td>...</td>\n",
       "      <td>0</td>\n",
       "      <td>0</td>\n",
       "      <td>2096</td>\n",
       "      <td>12</td>\n",
       "      <td>2</td>\n",
       "      <td>3</td>\n",
       "      <td>49</td>\n",
       "      <td>1</td>\n",
       "      <td>2</td>\n",
       "      <td>1</td>\n",
       "    </tr>\n",
       "    <tr>\n",
       "      <th>3</th>\n",
       "      <td>0</td>\n",
       "      <td>1</td>\n",
       "      <td>2</td>\n",
       "      <td>1</td>\n",
       "      <td>2</td>\n",
       "      <td>0</td>\n",
       "      <td>1</td>\n",
       "      <td>1</td>\n",
       "      <td>0</td>\n",
       "      <td>1</td>\n",
       "      <td>...</td>\n",
       "      <td>0</td>\n",
       "      <td>0</td>\n",
       "      <td>7882</td>\n",
       "      <td>42</td>\n",
       "      <td>2</td>\n",
       "      <td>4</td>\n",
       "      <td>45</td>\n",
       "      <td>1</td>\n",
       "      <td>2</td>\n",
       "      <td>1</td>\n",
       "    </tr>\n",
       "    <tr>\n",
       "      <th>4</th>\n",
       "      <td>0</td>\n",
       "      <td>2</td>\n",
       "      <td>3</td>\n",
       "      <td>1</td>\n",
       "      <td>1</td>\n",
       "      <td>0</td>\n",
       "      <td>0</td>\n",
       "      <td>2</td>\n",
       "      <td>0</td>\n",
       "      <td>1</td>\n",
       "      <td>...</td>\n",
       "      <td>0</td>\n",
       "      <td>0</td>\n",
       "      <td>4870</td>\n",
       "      <td>24</td>\n",
       "      <td>3</td>\n",
       "      <td>4</td>\n",
       "      <td>53</td>\n",
       "      <td>2</td>\n",
       "      <td>2</td>\n",
       "      <td>0</td>\n",
       "    </tr>\n",
       "  </tbody>\n",
       "</table>\n",
       "<p>5 rows × 21 columns</p>\n",
       "</div>"
      ],
      "text/plain": [
       "   ExistingChecking  History  Purpose  Savings  EmploymentSince  StatusSex  \\\n",
       "0                 0        0        0        0                0          0   \n",
       "1                 1        1        0        1                1          1   \n",
       "2                 2        0        1        1                2          0   \n",
       "3                 0        1        2        1                2          0   \n",
       "4                 0        2        3        1                1          0   \n",
       "\n",
       "   OtherDebtors  Property  OtherInstallmentPlans  Housing  ...  Telephone  \\\n",
       "0             0         0                      0        0  ...          1   \n",
       "1             0         0                      0        0  ...          0   \n",
       "2             0         0                      0        0  ...          0   \n",
       "3             1         1                      0        1  ...          0   \n",
       "4             0         2                      0        1  ...          0   \n",
       "\n",
       "   ForeignWorker  Amount  Duration  InstallmentRate  ResidenceSince  Age  \\\n",
       "0              0    1169         6                4               4   67   \n",
       "1              0    5951        48                2               2   22   \n",
       "2              0    2096        12                2               3   49   \n",
       "3              0    7882        42                2               4   45   \n",
       "4              0    4870        24                3               4   53   \n",
       "\n",
       "   ExistingCredits  PeopleLiable  Class  \n",
       "0                2             1      1  \n",
       "1                1             1      0  \n",
       "2                1             2      1  \n",
       "3                1             2      1  \n",
       "4                2             2      0  \n",
       "\n",
       "[5 rows x 21 columns]"
      ]
     },
     "execution_count": 439,
     "metadata": {},
     "output_type": "execute_result"
    }
   ],
   "source": [
    "final_data.head()"
   ]
  },
  {
   "cell_type": "markdown",
   "metadata": {},
   "source": [
    "### ACP"
   ]
  },
  {
   "cell_type": "code",
   "execution_count": 454,
   "metadata": {},
   "outputs": [
    {
     "data": {
      "text/html": [
       "<div>\n",
       "<style scoped>\n",
       "    .dataframe tbody tr th:only-of-type {\n",
       "        vertical-align: middle;\n",
       "    }\n",
       "\n",
       "    .dataframe tbody tr th {\n",
       "        vertical-align: top;\n",
       "    }\n",
       "\n",
       "    .dataframe thead th {\n",
       "        text-align: right;\n",
       "    }\n",
       "</style>\n",
       "<table border=\"1\" class=\"dataframe\">\n",
       "  <thead>\n",
       "    <tr style=\"text-align: right;\">\n",
       "      <th></th>\n",
       "      <th>ExistingChecking</th>\n",
       "      <th>History</th>\n",
       "      <th>Purpose</th>\n",
       "      <th>Savings</th>\n",
       "      <th>EmploymentSince</th>\n",
       "      <th>StatusSex</th>\n",
       "      <th>OtherDebtors</th>\n",
       "      <th>Property</th>\n",
       "      <th>OtherInstallmentPlans</th>\n",
       "      <th>Housing</th>\n",
       "      <th>Job</th>\n",
       "      <th>Telephone</th>\n",
       "      <th>ForeignWorker</th>\n",
       "      <th>Amount</th>\n",
       "      <th>Duration</th>\n",
       "      <th>InstallmentRate</th>\n",
       "      <th>ResidenceSince</th>\n",
       "      <th>Age</th>\n",
       "      <th>ExistingCredits</th>\n",
       "      <th>PeopleLiable</th>\n",
       "    </tr>\n",
       "  </thead>\n",
       "  <tbody>\n",
       "    <tr>\n",
       "      <th>0</th>\n",
       "      <td>0</td>\n",
       "      <td>0</td>\n",
       "      <td>0</td>\n",
       "      <td>0</td>\n",
       "      <td>0</td>\n",
       "      <td>0</td>\n",
       "      <td>0</td>\n",
       "      <td>0</td>\n",
       "      <td>0</td>\n",
       "      <td>0</td>\n",
       "      <td>0</td>\n",
       "      <td>1</td>\n",
       "      <td>0</td>\n",
       "      <td>1169</td>\n",
       "      <td>6</td>\n",
       "      <td>4</td>\n",
       "      <td>4</td>\n",
       "      <td>67</td>\n",
       "      <td>2</td>\n",
       "      <td>1</td>\n",
       "    </tr>\n",
       "    <tr>\n",
       "      <th>1</th>\n",
       "      <td>1</td>\n",
       "      <td>1</td>\n",
       "      <td>0</td>\n",
       "      <td>1</td>\n",
       "      <td>1</td>\n",
       "      <td>1</td>\n",
       "      <td>0</td>\n",
       "      <td>0</td>\n",
       "      <td>0</td>\n",
       "      <td>0</td>\n",
       "      <td>0</td>\n",
       "      <td>0</td>\n",
       "      <td>0</td>\n",
       "      <td>5951</td>\n",
       "      <td>48</td>\n",
       "      <td>2</td>\n",
       "      <td>2</td>\n",
       "      <td>22</td>\n",
       "      <td>1</td>\n",
       "      <td>1</td>\n",
       "    </tr>\n",
       "    <tr>\n",
       "      <th>2</th>\n",
       "      <td>2</td>\n",
       "      <td>0</td>\n",
       "      <td>1</td>\n",
       "      <td>1</td>\n",
       "      <td>2</td>\n",
       "      <td>0</td>\n",
       "      <td>0</td>\n",
       "      <td>0</td>\n",
       "      <td>0</td>\n",
       "      <td>0</td>\n",
       "      <td>1</td>\n",
       "      <td>0</td>\n",
       "      <td>0</td>\n",
       "      <td>2096</td>\n",
       "      <td>12</td>\n",
       "      <td>2</td>\n",
       "      <td>3</td>\n",
       "      <td>49</td>\n",
       "      <td>1</td>\n",
       "      <td>2</td>\n",
       "    </tr>\n",
       "    <tr>\n",
       "      <th>3</th>\n",
       "      <td>0</td>\n",
       "      <td>1</td>\n",
       "      <td>2</td>\n",
       "      <td>1</td>\n",
       "      <td>2</td>\n",
       "      <td>0</td>\n",
       "      <td>1</td>\n",
       "      <td>1</td>\n",
       "      <td>0</td>\n",
       "      <td>1</td>\n",
       "      <td>0</td>\n",
       "      <td>0</td>\n",
       "      <td>0</td>\n",
       "      <td>7882</td>\n",
       "      <td>42</td>\n",
       "      <td>2</td>\n",
       "      <td>4</td>\n",
       "      <td>45</td>\n",
       "      <td>1</td>\n",
       "      <td>2</td>\n",
       "    </tr>\n",
       "    <tr>\n",
       "      <th>4</th>\n",
       "      <td>0</td>\n",
       "      <td>2</td>\n",
       "      <td>3</td>\n",
       "      <td>1</td>\n",
       "      <td>1</td>\n",
       "      <td>0</td>\n",
       "      <td>0</td>\n",
       "      <td>2</td>\n",
       "      <td>0</td>\n",
       "      <td>1</td>\n",
       "      <td>0</td>\n",
       "      <td>0</td>\n",
       "      <td>0</td>\n",
       "      <td>4870</td>\n",
       "      <td>24</td>\n",
       "      <td>3</td>\n",
       "      <td>4</td>\n",
       "      <td>53</td>\n",
       "      <td>2</td>\n",
       "      <td>2</td>\n",
       "    </tr>\n",
       "  </tbody>\n",
       "</table>\n",
       "</div>"
      ],
      "text/plain": [
       "   ExistingChecking  History  Purpose  Savings  EmploymentSince  StatusSex  \\\n",
       "0                 0        0        0        0                0          0   \n",
       "1                 1        1        0        1                1          1   \n",
       "2                 2        0        1        1                2          0   \n",
       "3                 0        1        2        1                2          0   \n",
       "4                 0        2        3        1                1          0   \n",
       "\n",
       "   OtherDebtors  Property  OtherInstallmentPlans  Housing  Job  Telephone  \\\n",
       "0             0         0                      0        0    0          1   \n",
       "1             0         0                      0        0    0          0   \n",
       "2             0         0                      0        0    1          0   \n",
       "3             1         1                      0        1    0          0   \n",
       "4             0         2                      0        1    0          0   \n",
       "\n",
       "   ForeignWorker  Amount  Duration  InstallmentRate  ResidenceSince  Age  \\\n",
       "0              0    1169         6                4               4   67   \n",
       "1              0    5951        48                2               2   22   \n",
       "2              0    2096        12                2               3   49   \n",
       "3              0    7882        42                2               4   45   \n",
       "4              0    4870        24                3               4   53   \n",
       "\n",
       "   ExistingCredits  PeopleLiable  \n",
       "0                2             1  \n",
       "1                1             1  \n",
       "2                1             2  \n",
       "3                1             2  \n",
       "4                2             2  "
      ]
     },
     "execution_count": 454,
     "metadata": {},
     "output_type": "execute_result"
    }
   ],
   "source": [
    "germanACP=final_data.drop(columns=\"Class\")\n",
    "from sklearn.preprocessing import StandardScaler\n",
    "sc = StandardScaler()\n",
    "Z = sc.fit_transform(germanACP)\n",
    "germanACP.head()"
   ]
  },
  {
   "cell_type": "code",
   "execution_count": 468,
   "metadata": {},
   "outputs": [],
   "source": [
    "from sklearn.decomposition import PCA\n",
    "#instanciation\n",
    "acp = PCA(svd_solver='full')\n",
    "#appliquer acp\n",
    "coord = acp.fit_transform(Z)"
   ]
  },
  {
   "cell_type": "code",
   "execution_count": 469,
   "metadata": {},
   "outputs": [
    {
     "name": "stdout",
     "output_type": "stream",
     "text": [
      "20\n"
     ]
    }
   ],
   "source": [
    "#nombre de composantes calculées\n",
    "print(acp.n_components_) #58"
   ]
  },
  {
   "cell_type": "code",
   "execution_count": 470,
   "metadata": {},
   "outputs": [
    {
     "name": "stdout",
     "output_type": "stream",
     "text": [
      "[2.2358855  1.83183308 1.44084034 1.34130059 1.29580258 1.16835795\n",
      " 1.10760911 1.00176596 0.97239957 0.91926096 0.88824134 0.83829022\n",
      " 0.77263375 0.75876872 0.7396221  0.67691383 0.64002789 0.60739753\n",
      " 0.5263455  0.25672349]\n"
     ]
    }
   ],
   "source": [
    "#variance expliquée\n",
    "print(acp.explained_variance_)"
   ]
  },
  {
   "cell_type": "code",
   "execution_count": 471,
   "metadata": {},
   "outputs": [
    {
     "name": "stdout",
     "output_type": "stream",
     "text": [
      "[2.23364962 1.83000125 1.4393995  1.33995929 1.29450677 1.16718959\n",
      " 1.10650151 1.0007642  0.97142717 0.9183417  0.8873531  0.83745193\n",
      " 0.77186111 0.75800995 0.73888248 0.67623692 0.63938786 0.60679014\n",
      " 0.52581916 0.25646676]\n"
     ]
    }
   ],
   "source": [
    "#valeur corrigée\n",
    "n = final_data.shape[0]\n",
    "eigval = (n-1)/n*acp.explained_variance_\n",
    "print(eigval)"
   ]
  },
  {
   "cell_type": "code",
   "execution_count": 475,
   "metadata": {},
   "outputs": [
    {
     "data": {
      "image/png": "[encoded data removed]",
      "text/plain": [
       "<Figure size 432x288 with 1 Axes>"
      ]
     },
     "metadata": {
      "needs_background": "light"
     },
     "output_type": "display_data"
    }
   ],
   "source": [
    "#scree plot\n",
    "p=acp.n_components_\n",
    "plt.plot(np.arange(1,p+1),eigval)\n",
    "plt.title(\"Scree plot\")\n",
    "plt.ylabel(\"Eigen values\")\n",
    "plt.xlabel(\"Factor number\")\n",
    "plt.show()"
   ]
  },
  {
   "cell_type": "code",
   "execution_count": 476,
   "metadata": {},
   "outputs": [
    {
     "data": {
      "image/png": "[encoded data removed]",
      "text/plain": [
       "<Figure size 432x288 with 1 Axes>"
      ]
     },
     "metadata": {
      "needs_background": "light"
     },
     "output_type": "display_data"
    }
   ],
   "source": [
    "#cumul de variance expliquée\n",
    "plt.plot(np.arange(1,p+1),np.cumsum(acp.explained_variance_ratio_))\n",
    "plt.title(\"Explained variance vs. # of factors\")\n",
    "plt.ylabel(\"Cumsum explained variance ratio\")\n",
    "plt.xlabel(\"Factor number\")\n",
    "plt.show()\n"
   ]
  },
  {
   "cell_type": "code",
   "execution_count": 477,
   "metadata": {},
   "outputs": [
    {
     "name": "stdout",
     "output_type": "stream",
     "text": [
      "    Val.Propre\n",
      "0     2.233650\n",
      "1     1.830001\n",
      "2     1.439399\n",
      "3     1.339959\n",
      "4     1.294507\n",
      "5     1.167190\n",
      "6     1.106502\n",
      "7     1.000764\n",
      "8     0.971427\n",
      "9     0.918342\n",
      "10    0.887353\n",
      "11    0.837452\n",
      "12    0.771861\n",
      "13    0.758010\n",
      "14    0.738882\n",
      "15    0.676237\n",
      "16    0.639388\n",
      "17    0.606790\n",
      "18    0.525819\n",
      "19    0.256467\n"
     ]
    }
   ],
   "source": [
    "#test des bâtons brisés\n",
    "print(pd.DataFrame({'Val.Propre':eigval}))"
   ]
  },
  {
   "cell_type": "markdown",
   "metadata": {},
   "source": [
    " #### => Selon les résultas obtenus dans Scree plot, cumul de variance expliquée et les valeurs propres on a 8 dimensions PCA selon le critére de Kaiser (Eigenvalue > 1)"
   ]
  },
  {
   "cell_type": "code",
   "execution_count": 479,
   "metadata": {},
   "outputs": [
    {
     "name": "stdout",
     "output_type": "stream",
     "text": [
      "      id         CTR_1     CTR_2\n",
      "0      0  7.695666e-05  0.007439\n",
      "1      1  5.043418e-07  0.001362\n",
      "2      2  3.508232e-04  0.001591\n",
      "3      3  1.420419e-03  0.000032\n",
      "4      4  9.496537e-04  0.000994\n",
      "5      5  3.304725e-03  0.000064\n",
      "6      6  6.557739e-07  0.001406\n",
      "7      7  3.172412e-03  0.000815\n",
      "8      8  6.951509e-04  0.000351\n",
      "9      9  4.349274e-07  0.000968\n",
      "10    10  9.511900e-04  0.002663\n",
      "11    11  2.651117e-04  0.003146\n",
      "12    12  3.827979e-04  0.000728\n",
      "13    13  2.536801e-04  0.003542\n",
      "14    14  8.477525e-05  0.000346\n",
      "15    15  3.197354e-04  0.000305\n",
      "16    16  4.637876e-05  0.004538\n",
      "17    17  2.214258e-03  0.001730\n",
      "18    18  3.536061e-03  0.000121\n",
      "19    19  1.565923e-04  0.000297\n",
      "20    20  1.223956e-04  0.004986\n",
      "21    21  4.618423e-04  0.000317\n",
      "22    22  5.727426e-04  0.000269\n",
      "23    23  5.135936e-04  0.000023\n",
      "24    24  3.069464e-03  0.000111\n",
      "25    25  7.152429e-05  0.000001\n",
      "26    26  8.663351e-04  0.000008\n",
      "27    27  9.762495e-04  0.000014\n",
      "28    28  1.603740e-03  0.000022\n",
      "29    29  7.122552e-03  0.000563\n",
      "..   ...           ...       ...\n",
      "970  970  7.146239e-04  0.000233\n",
      "971  971  8.352377e-04  0.000366\n",
      "972  972  2.582120e-04  0.002819\n",
      "973  973  2.955987e-03  0.000538\n",
      "974  974  1.406932e-06  0.000013\n",
      "975  975  6.319019e-05  0.000675\n",
      "976  976  1.490572e-03  0.001039\n",
      "977  977  4.288345e-07  0.000577\n",
      "978  978  7.030628e-04  0.002698\n",
      "979  979  1.101691e-03  0.004487\n",
      "980  980  1.986360e-04  0.000015\n",
      "981  981  3.513382e-03  0.001678\n",
      "982  982  1.655040e-04  0.000837\n",
      "983  983  8.188223e-04  0.000457\n",
      "984  984  2.113785e-04  0.000069\n",
      "985  985  7.882758e-04  0.000020\n",
      "986  986  1.021868e-04  0.003271\n",
      "987  987  1.113072e-03  0.000504\n",
      "988  988  1.115950e-03  0.001148\n",
      "989  989  1.435108e-04  0.002018\n",
      "990  990  3.288936e-04  0.000152\n",
      "991  991  8.922275e-05  0.000127\n",
      "992  992  3.157892e-04  0.000896\n",
      "993  993  6.345600e-04  0.000377\n",
      "994  994  1.295759e-04  0.001630\n",
      "995  995  8.697966e-04  0.000025\n",
      "996  996  5.794735e-04  0.000006\n",
      "997  997  3.458684e-04  0.001216\n",
      "998  998  3.532147e-04  0.000098\n",
      "999  999  4.082962e-04  0.000671\n",
      "\n",
      "[1000 rows x 3 columns]\n"
     ]
    }
   ],
   "source": [
    "#contributions aux axes   \n",
    "ctr = coord**2 \n",
    "for j in range(p):    \n",
    "    ctr[:,j] = ctr[:,j]/(n*eigval[j])     \n",
    "print(pd.DataFrame({'id':germanACP.index,'CTR_1':ctr[:,0],'CTR_2':ctr[:,1]})) "
   ]
  },
  {
   "cell_type": "code",
   "execution_count": 481,
   "metadata": {},
   "outputs": [
    {
     "data": {
      "image/png": "[encoded data removed]",
      "text/plain": [
       "<Figure size 576x576 with 1 Axes>"
      ]
     },
     "metadata": {
      "needs_background": "light"
     },
     "output_type": "display_data"
    }
   ],
   "source": [
    "#cercle des corrélations \n",
    "\n",
    "fig, axes = plt.subplots(figsize=(8,8))\n",
    "axes.set_xlim(-1,1)\n",
    "axes.set_ylim(-1,1)\n",
    "#variables actives\n",
    "for j in range(p):\n",
    " plt.annotate(germanACP.columns[j],(corvar[j,0],corvar[j,1]))\n",
    "#on change d'axe à chaque fois \n",
    "#les var sont bien representées dan le 1 er plan\n",
    "#ajouter les axes\n",
    "plt.plot([-1,1],[0,0],color='silver',linestyle='-',linewidth=1)\n",
    "plt.plot([0,0],[-1,1],color='silver',linestyle='-',linewidth=1)\n",
    "#ajouter un cercle\n",
    "cercle = plt.Circle((0,0),1,color='blue',fill=False)\n",
    "axes.add_artist(cercle)\n",
    "#affichage\n",
    "plt.show()"
   ]
  },
  {
   "cell_type": "code",
   "execution_count": 482,
   "metadata": {},
   "outputs": [
    {
     "data": {
      "text/html": [
       "<div>\n",
       "<style scoped>\n",
       "    .dataframe tbody tr th:only-of-type {\n",
       "        vertical-align: middle;\n",
       "    }\n",
       "\n",
       "    .dataframe tbody tr th {\n",
       "        vertical-align: top;\n",
       "    }\n",
       "\n",
       "    .dataframe thead th {\n",
       "        text-align: right;\n",
       "    }\n",
       "</style>\n",
       "<table border=\"1\" class=\"dataframe\">\n",
       "  <thead>\n",
       "    <tr style=\"text-align: right;\">\n",
       "      <th></th>\n",
       "      <th>ExistingChecking</th>\n",
       "      <th>History</th>\n",
       "      <th>Purpose</th>\n",
       "      <th>Savings</th>\n",
       "      <th>EmploymentSince</th>\n",
       "      <th>StatusSex</th>\n",
       "      <th>OtherDebtors</th>\n",
       "      <th>Property</th>\n",
       "      <th>OtherInstallmentPlans</th>\n",
       "      <th>Housing</th>\n",
       "      <th>Job</th>\n",
       "      <th>Telephone</th>\n",
       "      <th>ForeignWorker</th>\n",
       "      <th>Amount</th>\n",
       "      <th>Duration</th>\n",
       "      <th>InstallmentRate</th>\n",
       "      <th>ResidenceSince</th>\n",
       "      <th>Age</th>\n",
       "      <th>ExistingCredits</th>\n",
       "      <th>PeopleLiable</th>\n",
       "    </tr>\n",
       "  </thead>\n",
       "  <tbody>\n",
       "    <tr>\n",
       "      <th>ExistingChecking</th>\n",
       "      <td>1.000000</td>\n",
       "      <td>-0.131100</td>\n",
       "      <td>-0.079508</td>\n",
       "      <td>0.038927</td>\n",
       "      <td>-0.074184</td>\n",
       "      <td>-0.028672</td>\n",
       "      <td>-0.101713</td>\n",
       "      <td>0.019656</td>\n",
       "      <td>-0.023378</td>\n",
       "      <td>-0.121346</td>\n",
       "      <td>-0.021350</td>\n",
       "      <td>0.049715</td>\n",
       "      <td>-0.017726</td>\n",
       "      <td>-0.063432</td>\n",
       "      <td>-0.084226</td>\n",
       "      <td>-0.031215</td>\n",
       "      <td>-0.075162</td>\n",
       "      <td>0.057936</td>\n",
       "      <td>0.042741</td>\n",
       "      <td>-0.027212</td>\n",
       "    </tr>\n",
       "    <tr>\n",
       "      <th>History</th>\n",
       "      <td>-0.131100</td>\n",
       "      <td>1.000000</td>\n",
       "      <td>0.143938</td>\n",
       "      <td>0.067464</td>\n",
       "      <td>0.078664</td>\n",
       "      <td>-0.005519</td>\n",
       "      <td>-0.008955</td>\n",
       "      <td>0.071606</td>\n",
       "      <td>0.239431</td>\n",
       "      <td>0.077417</td>\n",
       "      <td>0.037662</td>\n",
       "      <td>-0.018283</td>\n",
       "      <td>-0.041784</td>\n",
       "      <td>0.113776</td>\n",
       "      <td>0.142631</td>\n",
       "      <td>-0.024740</td>\n",
       "      <td>-0.027989</td>\n",
       "      <td>-0.070046</td>\n",
       "      <td>-0.207960</td>\n",
       "      <td>0.051849</td>\n",
       "    </tr>\n",
       "    <tr>\n",
       "      <th>Purpose</th>\n",
       "      <td>-0.079508</td>\n",
       "      <td>0.143938</td>\n",
       "      <td>1.000000</td>\n",
       "      <td>0.031698</td>\n",
       "      <td>0.026617</td>\n",
       "      <td>-0.035918</td>\n",
       "      <td>-0.020423</td>\n",
       "      <td>0.027161</td>\n",
       "      <td>0.049489</td>\n",
       "      <td>0.028464</td>\n",
       "      <td>0.155968</td>\n",
       "      <td>0.116031</td>\n",
       "      <td>0.035655</td>\n",
       "      <td>0.203234</td>\n",
       "      <td>0.105305</td>\n",
       "      <td>-0.092747</td>\n",
       "      <td>0.073651</td>\n",
       "      <td>0.066020</td>\n",
       "      <td>0.071995</td>\n",
       "      <td>0.077245</td>\n",
       "    </tr>\n",
       "    <tr>\n",
       "      <th>Savings</th>\n",
       "      <td>0.038927</td>\n",
       "      <td>0.067464</td>\n",
       "      <td>0.031698</td>\n",
       "      <td>1.000000</td>\n",
       "      <td>0.014129</td>\n",
       "      <td>0.058271</td>\n",
       "      <td>-0.006327</td>\n",
       "      <td>0.032131</td>\n",
       "      <td>0.002696</td>\n",
       "      <td>0.018343</td>\n",
       "      <td>-0.045329</td>\n",
       "      <td>-0.047016</td>\n",
       "      <td>0.006803</td>\n",
       "      <td>-0.060195</td>\n",
       "      <td>-0.009619</td>\n",
       "      <td>-0.010502</td>\n",
       "      <td>-0.007060</td>\n",
       "      <td>-0.068435</td>\n",
       "      <td>-0.003050</td>\n",
       "      <td>-0.015059</td>\n",
       "    </tr>\n",
       "    <tr>\n",
       "      <th>EmploymentSince</th>\n",
       "      <td>-0.074184</td>\n",
       "      <td>0.078664</td>\n",
       "      <td>0.026617</td>\n",
       "      <td>0.014129</td>\n",
       "      <td>1.000000</td>\n",
       "      <td>0.170340</td>\n",
       "      <td>0.009477</td>\n",
       "      <td>-0.041518</td>\n",
       "      <td>0.004556</td>\n",
       "      <td>0.059077</td>\n",
       "      <td>0.108195</td>\n",
       "      <td>-0.046683</td>\n",
       "      <td>0.031612</td>\n",
       "      <td>0.005653</td>\n",
       "      <td>-0.031987</td>\n",
       "      <td>-0.087305</td>\n",
       "      <td>-0.225763</td>\n",
       "      <td>-0.270485</td>\n",
       "      <td>-0.103222</td>\n",
       "      <td>-0.073919</td>\n",
       "    </tr>\n",
       "    <tr>\n",
       "      <th>StatusSex</th>\n",
       "      <td>-0.028672</td>\n",
       "      <td>-0.005519</td>\n",
       "      <td>-0.035918</td>\n",
       "      <td>0.058271</td>\n",
       "      <td>0.170340</td>\n",
       "      <td>1.000000</td>\n",
       "      <td>-0.011880</td>\n",
       "      <td>-0.099575</td>\n",
       "      <td>-0.065461</td>\n",
       "      <td>0.083146</td>\n",
       "      <td>-0.041234</td>\n",
       "      <td>-0.057207</td>\n",
       "      <td>0.009204</td>\n",
       "      <td>-0.159434</td>\n",
       "      <td>-0.116029</td>\n",
       "      <td>-0.081121</td>\n",
       "      <td>-0.106742</td>\n",
       "      <td>-0.186563</td>\n",
       "      <td>-0.089640</td>\n",
       "      <td>-0.238327</td>\n",
       "    </tr>\n",
       "    <tr>\n",
       "      <th>OtherDebtors</th>\n",
       "      <td>-0.101713</td>\n",
       "      <td>-0.008955</td>\n",
       "      <td>-0.020423</td>\n",
       "      <td>-0.006327</td>\n",
       "      <td>0.009477</td>\n",
       "      <td>-0.011880</td>\n",
       "      <td>1.000000</td>\n",
       "      <td>-0.101378</td>\n",
       "      <td>-0.000955</td>\n",
       "      <td>0.036219</td>\n",
       "      <td>-0.003580</td>\n",
       "      <td>-0.050996</td>\n",
       "      <td>0.107639</td>\n",
       "      <td>0.037921</td>\n",
       "      <td>0.006711</td>\n",
       "      <td>-0.014835</td>\n",
       "      <td>-0.012690</td>\n",
       "      <td>-0.028294</td>\n",
       "      <td>-0.017662</td>\n",
       "      <td>-0.010990</td>\n",
       "    </tr>\n",
       "    <tr>\n",
       "      <th>Property</th>\n",
       "      <td>0.019656</td>\n",
       "      <td>0.071606</td>\n",
       "      <td>0.027161</td>\n",
       "      <td>0.032131</td>\n",
       "      <td>-0.041518</td>\n",
       "      <td>-0.099575</td>\n",
       "      <td>-0.101378</td>\n",
       "      <td>1.000000</td>\n",
       "      <td>0.041147</td>\n",
       "      <td>0.022420</td>\n",
       "      <td>0.007785</td>\n",
       "      <td>0.155051</td>\n",
       "      <td>-0.138772</td>\n",
       "      <td>0.224550</td>\n",
       "      <td>0.245655</td>\n",
       "      <td>0.039353</td>\n",
       "      <td>0.055260</td>\n",
       "      <td>-0.054186</td>\n",
       "      <td>0.001209</td>\n",
       "      <td>-0.041111</td>\n",
       "    </tr>\n",
       "    <tr>\n",
       "      <th>OtherInstallmentPlans</th>\n",
       "      <td>-0.023378</td>\n",
       "      <td>0.239431</td>\n",
       "      <td>0.049489</td>\n",
       "      <td>0.002696</td>\n",
       "      <td>0.004556</td>\n",
       "      <td>-0.065461</td>\n",
       "      <td>-0.000955</td>\n",
       "      <td>0.041147</td>\n",
       "      <td>1.000000</td>\n",
       "      <td>-0.077624</td>\n",
       "      <td>0.060764</td>\n",
       "      <td>0.030704</td>\n",
       "      <td>-0.036734</td>\n",
       "      <td>0.045815</td>\n",
       "      <td>0.076992</td>\n",
       "      <td>0.034750</td>\n",
       "      <td>-0.034517</td>\n",
       "      <td>0.021858</td>\n",
       "      <td>0.046993</td>\n",
       "      <td>0.057595</td>\n",
       "    </tr>\n",
       "    <tr>\n",
       "      <th>Housing</th>\n",
       "      <td>-0.121346</td>\n",
       "      <td>0.077417</td>\n",
       "      <td>0.028464</td>\n",
       "      <td>0.018343</td>\n",
       "      <td>0.059077</td>\n",
       "      <td>0.083146</td>\n",
       "      <td>0.036219</td>\n",
       "      <td>0.022420</td>\n",
       "      <td>-0.077624</td>\n",
       "      <td>1.000000</td>\n",
       "      <td>0.022057</td>\n",
       "      <td>-0.003307</td>\n",
       "      <td>0.005155</td>\n",
       "      <td>0.056119</td>\n",
       "      <td>0.011950</td>\n",
       "      <td>-0.073955</td>\n",
       "      <td>0.255106</td>\n",
       "      <td>-0.108437</td>\n",
       "      <td>-0.052609</td>\n",
       "      <td>-0.015004</td>\n",
       "    </tr>\n",
       "    <tr>\n",
       "      <th>Job</th>\n",
       "      <td>-0.021350</td>\n",
       "      <td>0.037662</td>\n",
       "      <td>0.155968</td>\n",
       "      <td>-0.045329</td>\n",
       "      <td>0.108195</td>\n",
       "      <td>-0.041234</td>\n",
       "      <td>-0.003580</td>\n",
       "      <td>0.007785</td>\n",
       "      <td>0.060764</td>\n",
       "      <td>0.022057</td>\n",
       "      <td>1.000000</td>\n",
       "      <td>0.188515</td>\n",
       "      <td>0.020686</td>\n",
       "      <td>0.182750</td>\n",
       "      <td>0.015715</td>\n",
       "      <td>-0.037933</td>\n",
       "      <td>-0.009815</td>\n",
       "      <td>0.163801</td>\n",
       "      <td>0.017437</td>\n",
       "      <td>0.053475</td>\n",
       "    </tr>\n",
       "    <tr>\n",
       "      <th>Telephone</th>\n",
       "      <td>0.049715</td>\n",
       "      <td>-0.018283</td>\n",
       "      <td>0.116031</td>\n",
       "      <td>-0.047016</td>\n",
       "      <td>-0.046683</td>\n",
       "      <td>-0.057207</td>\n",
       "      <td>-0.050996</td>\n",
       "      <td>0.155051</td>\n",
       "      <td>0.030704</td>\n",
       "      <td>-0.003307</td>\n",
       "      <td>0.188515</td>\n",
       "      <td>1.000000</td>\n",
       "      <td>-0.107401</td>\n",
       "      <td>0.276995</td>\n",
       "      <td>0.164718</td>\n",
       "      <td>0.014413</td>\n",
       "      <td>0.095359</td>\n",
       "      <td>0.145259</td>\n",
       "      <td>0.065553</td>\n",
       "      <td>-0.014753</td>\n",
       "    </tr>\n",
       "    <tr>\n",
       "      <th>ForeignWorker</th>\n",
       "      <td>-0.017726</td>\n",
       "      <td>-0.041784</td>\n",
       "      <td>0.035655</td>\n",
       "      <td>0.006803</td>\n",
       "      <td>0.031612</td>\n",
       "      <td>0.009204</td>\n",
       "      <td>0.107639</td>\n",
       "      <td>-0.138772</td>\n",
       "      <td>-0.036734</td>\n",
       "      <td>0.005155</td>\n",
       "      <td>0.020686</td>\n",
       "      <td>-0.107401</td>\n",
       "      <td>1.000000</td>\n",
       "      <td>-0.050050</td>\n",
       "      <td>-0.138196</td>\n",
       "      <td>-0.090024</td>\n",
       "      <td>-0.054097</td>\n",
       "      <td>-0.006151</td>\n",
       "      <td>-0.009717</td>\n",
       "      <td>0.077071</td>\n",
       "    </tr>\n",
       "    <tr>\n",
       "      <th>Amount</th>\n",
       "      <td>-0.063432</td>\n",
       "      <td>0.113776</td>\n",
       "      <td>0.203234</td>\n",
       "      <td>-0.060195</td>\n",
       "      <td>0.005653</td>\n",
       "      <td>-0.159434</td>\n",
       "      <td>0.037921</td>\n",
       "      <td>0.224550</td>\n",
       "      <td>0.045815</td>\n",
       "      <td>0.056119</td>\n",
       "      <td>0.182750</td>\n",
       "      <td>0.276995</td>\n",
       "      <td>-0.050050</td>\n",
       "      <td>1.000000</td>\n",
       "      <td>0.624984</td>\n",
       "      <td>-0.271316</td>\n",
       "      <td>0.028926</td>\n",
       "      <td>0.032716</td>\n",
       "      <td>0.020795</td>\n",
       "      <td>0.017142</td>\n",
       "    </tr>\n",
       "    <tr>\n",
       "      <th>Duration</th>\n",
       "      <td>-0.084226</td>\n",
       "      <td>0.142631</td>\n",
       "      <td>0.105305</td>\n",
       "      <td>-0.009619</td>\n",
       "      <td>-0.031987</td>\n",
       "      <td>-0.116029</td>\n",
       "      <td>0.006711</td>\n",
       "      <td>0.245655</td>\n",
       "      <td>0.076992</td>\n",
       "      <td>0.011950</td>\n",
       "      <td>0.015715</td>\n",
       "      <td>0.164718</td>\n",
       "      <td>-0.138196</td>\n",
       "      <td>0.624984</td>\n",
       "      <td>1.000000</td>\n",
       "      <td>0.074749</td>\n",
       "      <td>0.034067</td>\n",
       "      <td>-0.036136</td>\n",
       "      <td>-0.011284</td>\n",
       "      <td>-0.023834</td>\n",
       "    </tr>\n",
       "    <tr>\n",
       "      <th>InstallmentRate</th>\n",
       "      <td>-0.031215</td>\n",
       "      <td>-0.024740</td>\n",
       "      <td>-0.092747</td>\n",
       "      <td>-0.010502</td>\n",
       "      <td>-0.087305</td>\n",
       "      <td>-0.081121</td>\n",
       "      <td>-0.014835</td>\n",
       "      <td>0.039353</td>\n",
       "      <td>0.034750</td>\n",
       "      <td>-0.073955</td>\n",
       "      <td>-0.037933</td>\n",
       "      <td>0.014413</td>\n",
       "      <td>-0.090024</td>\n",
       "      <td>-0.271316</td>\n",
       "      <td>0.074749</td>\n",
       "      <td>1.000000</td>\n",
       "      <td>0.049302</td>\n",
       "      <td>0.058266</td>\n",
       "      <td>0.021669</td>\n",
       "      <td>-0.071207</td>\n",
       "    </tr>\n",
       "    <tr>\n",
       "      <th>ResidenceSince</th>\n",
       "      <td>-0.075162</td>\n",
       "      <td>-0.027989</td>\n",
       "      <td>0.073651</td>\n",
       "      <td>-0.007060</td>\n",
       "      <td>-0.225763</td>\n",
       "      <td>-0.106742</td>\n",
       "      <td>-0.012690</td>\n",
       "      <td>0.055260</td>\n",
       "      <td>-0.034517</td>\n",
       "      <td>0.255106</td>\n",
       "      <td>-0.009815</td>\n",
       "      <td>0.095359</td>\n",
       "      <td>-0.054097</td>\n",
       "      <td>0.028926</td>\n",
       "      <td>0.034067</td>\n",
       "      <td>0.049302</td>\n",
       "      <td>1.000000</td>\n",
       "      <td>0.266419</td>\n",
       "      <td>0.089625</td>\n",
       "      <td>0.042643</td>\n",
       "    </tr>\n",
       "    <tr>\n",
       "      <th>Age</th>\n",
       "      <td>0.057936</td>\n",
       "      <td>-0.070046</td>\n",
       "      <td>0.066020</td>\n",
       "      <td>-0.068435</td>\n",
       "      <td>-0.270485</td>\n",
       "      <td>-0.186563</td>\n",
       "      <td>-0.028294</td>\n",
       "      <td>-0.054186</td>\n",
       "      <td>0.021858</td>\n",
       "      <td>-0.108437</td>\n",
       "      <td>0.163801</td>\n",
       "      <td>0.145259</td>\n",
       "      <td>-0.006151</td>\n",
       "      <td>0.032716</td>\n",
       "      <td>-0.036136</td>\n",
       "      <td>0.058266</td>\n",
       "      <td>0.266419</td>\n",
       "      <td>1.000000</td>\n",
       "      <td>0.149254</td>\n",
       "      <td>0.118201</td>\n",
       "    </tr>\n",
       "    <tr>\n",
       "      <th>ExistingCredits</th>\n",
       "      <td>0.042741</td>\n",
       "      <td>-0.207960</td>\n",
       "      <td>0.071995</td>\n",
       "      <td>-0.003050</td>\n",
       "      <td>-0.103222</td>\n",
       "      <td>-0.089640</td>\n",
       "      <td>-0.017662</td>\n",
       "      <td>0.001209</td>\n",
       "      <td>0.046993</td>\n",
       "      <td>-0.052609</td>\n",
       "      <td>0.017437</td>\n",
       "      <td>0.065553</td>\n",
       "      <td>-0.009717</td>\n",
       "      <td>0.020795</td>\n",
       "      <td>-0.011284</td>\n",
       "      <td>0.021669</td>\n",
       "      <td>0.089625</td>\n",
       "      <td>0.149254</td>\n",
       "      <td>1.000000</td>\n",
       "      <td>0.109667</td>\n",
       "    </tr>\n",
       "    <tr>\n",
       "      <th>PeopleLiable</th>\n",
       "      <td>-0.027212</td>\n",
       "      <td>0.051849</td>\n",
       "      <td>0.077245</td>\n",
       "      <td>-0.015059</td>\n",
       "      <td>-0.073919</td>\n",
       "      <td>-0.238327</td>\n",
       "      <td>-0.010990</td>\n",
       "      <td>-0.041111</td>\n",
       "      <td>0.057595</td>\n",
       "      <td>-0.015004</td>\n",
       "      <td>0.053475</td>\n",
       "      <td>-0.014753</td>\n",
       "      <td>0.077071</td>\n",
       "      <td>0.017142</td>\n",
       "      <td>-0.023834</td>\n",
       "      <td>-0.071207</td>\n",
       "      <td>0.042643</td>\n",
       "      <td>0.118201</td>\n",
       "      <td>0.109667</td>\n",
       "      <td>1.000000</td>\n",
       "    </tr>\n",
       "  </tbody>\n",
       "</table>\n",
       "</div>"
      ],
      "text/plain": [
       "                       ExistingChecking   History   Purpose   Savings  \\\n",
       "ExistingChecking               1.000000 -0.131100 -0.079508  0.038927   \n",
       "History                       -0.131100  1.000000  0.143938  0.067464   \n",
       "Purpose                       -0.079508  0.143938  1.000000  0.031698   \n",
       "Savings                        0.038927  0.067464  0.031698  1.000000   \n",
       "EmploymentSince               -0.074184  0.078664  0.026617  0.014129   \n",
       "StatusSex                     -0.028672 -0.005519 -0.035918  0.058271   \n",
       "OtherDebtors                  -0.101713 -0.008955 -0.020423 -0.006327   \n",
       "Property                       0.019656  0.071606  0.027161  0.032131   \n",
       "OtherInstallmentPlans         -0.023378  0.239431  0.049489  0.002696   \n",
       "Housing                       -0.121346  0.077417  0.028464  0.018343   \n",
       "Job                           -0.021350  0.037662  0.155968 -0.045329   \n",
       "Telephone                      0.049715 -0.018283  0.116031 -0.047016   \n",
       "ForeignWorker                 -0.017726 -0.041784  0.035655  0.006803   \n",
       "Amount                        -0.063432  0.113776  0.203234 -0.060195   \n",
       "Duration                      -0.084226  0.142631  0.105305 -0.009619   \n",
       "InstallmentRate               -0.031215 -0.024740 -0.092747 -0.010502   \n",
       "ResidenceSince                -0.075162 -0.027989  0.073651 -0.007060   \n",
       "Age                            0.057936 -0.070046  0.066020 -0.068435   \n",
       "ExistingCredits                0.042741 -0.207960  0.071995 -0.003050   \n",
       "PeopleLiable                  -0.027212  0.051849  0.077245 -0.015059   \n",
       "\n",
       "                       EmploymentSince  StatusSex  OtherDebtors  Property  \\\n",
       "ExistingChecking             -0.074184  -0.028672     -0.101713  0.019656   \n",
       "History                       0.078664  -0.005519     -0.008955  0.071606   \n",
       "Purpose                       0.026617  -0.035918     -0.020423  0.027161   \n",
       "Savings                       0.014129   0.058271     -0.006327  0.032131   \n",
       "EmploymentSince               1.000000   0.170340      0.009477 -0.041518   \n",
       "StatusSex                     0.170340   1.000000     -0.011880 -0.099575   \n",
       "OtherDebtors                  0.009477  -0.011880      1.000000 -0.101378   \n",
       "Property                     -0.041518  -0.099575     -0.101378  1.000000   \n",
       "OtherInstallmentPlans         0.004556  -0.065461     -0.000955  0.041147   \n",
       "Housing                       0.059077   0.083146      0.036219  0.022420   \n",
       "Job                           0.108195  -0.041234     -0.003580  0.007785   \n",
       "Telephone                    -0.046683  -0.057207     -0.050996  0.155051   \n",
       "ForeignWorker                 0.031612   0.009204      0.107639 -0.138772   \n",
       "Amount                        0.005653  -0.159434      0.037921  0.224550   \n",
       "Duration                     -0.031987  -0.116029      0.006711  0.245655   \n",
       "InstallmentRate              -0.087305  -0.081121     -0.014835  0.039353   \n",
       "ResidenceSince               -0.225763  -0.106742     -0.012690  0.055260   \n",
       "Age                          -0.270485  -0.186563     -0.028294 -0.054186   \n",
       "ExistingCredits              -0.103222  -0.089640     -0.017662  0.001209   \n",
       "PeopleLiable                 -0.073919  -0.238327     -0.010990 -0.041111   \n",
       "\n",
       "                       OtherInstallmentPlans   Housing       Job  Telephone  \\\n",
       "ExistingChecking                   -0.023378 -0.121346 -0.021350   0.049715   \n",
       "History                             0.239431  0.077417  0.037662  -0.018283   \n",
       "Purpose                             0.049489  0.028464  0.155968   0.116031   \n",
       "Savings                             0.002696  0.018343 -0.045329  -0.047016   \n",
       "EmploymentSince                     0.004556  0.059077  0.108195  -0.046683   \n",
       "StatusSex                          -0.065461  0.083146 -0.041234  -0.057207   \n",
       "OtherDebtors                       -0.000955  0.036219 -0.003580  -0.050996   \n",
       "Property                            0.041147  0.022420  0.007785   0.155051   \n",
       "OtherInstallmentPlans               1.000000 -0.077624  0.060764   0.030704   \n",
       "Housing                            -0.077624  1.000000  0.022057  -0.003307   \n",
       "Job                                 0.060764  0.022057  1.000000   0.188515   \n",
       "Telephone                           0.030704 -0.003307  0.188515   1.000000   \n",
       "ForeignWorker                      -0.036734  0.005155  0.020686  -0.107401   \n",
       "Amount                              0.045815  0.056119  0.182750   0.276995   \n",
       "Duration                            0.076992  0.011950  0.015715   0.164718   \n",
       "InstallmentRate                     0.034750 -0.073955 -0.037933   0.014413   \n",
       "ResidenceSince                     -0.034517  0.255106 -0.009815   0.095359   \n",
       "Age                                 0.021858 -0.108437  0.163801   0.145259   \n",
       "ExistingCredits                     0.046993 -0.052609  0.017437   0.065553   \n",
       "PeopleLiable                        0.057595 -0.015004  0.053475  -0.014753   \n",
       "\n",
       "                       ForeignWorker    Amount  Duration  InstallmentRate  \\\n",
       "ExistingChecking           -0.017726 -0.063432 -0.084226        -0.031215   \n",
       "History                    -0.041784  0.113776  0.142631        -0.024740   \n",
       "Purpose                     0.035655  0.203234  0.105305        -0.092747   \n",
       "Savings                     0.006803 -0.060195 -0.009619        -0.010502   \n",
       "EmploymentSince             0.031612  0.005653 -0.031987        -0.087305   \n",
       "StatusSex                   0.009204 -0.159434 -0.116029        -0.081121   \n",
       "OtherDebtors                0.107639  0.037921  0.006711        -0.014835   \n",
       "Property                   -0.138772  0.224550  0.245655         0.039353   \n",
       "OtherInstallmentPlans      -0.036734  0.045815  0.076992         0.034750   \n",
       "Housing                     0.005155  0.056119  0.011950        -0.073955   \n",
       "Job                         0.020686  0.182750  0.015715        -0.037933   \n",
       "Telephone                  -0.107401  0.276995  0.164718         0.014413   \n",
       "ForeignWorker               1.000000 -0.050050 -0.138196        -0.090024   \n",
       "Amount                     -0.050050  1.000000  0.624984        -0.271316   \n",
       "Duration                   -0.138196  0.624984  1.000000         0.074749   \n",
       "InstallmentRate            -0.090024 -0.271316  0.074749         1.000000   \n",
       "ResidenceSince             -0.054097  0.028926  0.034067         0.049302   \n",
       "Age                        -0.006151  0.032716 -0.036136         0.058266   \n",
       "ExistingCredits            -0.009717  0.020795 -0.011284         0.021669   \n",
       "PeopleLiable                0.077071  0.017142 -0.023834        -0.071207   \n",
       "\n",
       "                       ResidenceSince       Age  ExistingCredits  PeopleLiable  \n",
       "ExistingChecking            -0.075162  0.057936         0.042741     -0.027212  \n",
       "History                     -0.027989 -0.070046        -0.207960      0.051849  \n",
       "Purpose                      0.073651  0.066020         0.071995      0.077245  \n",
       "Savings                     -0.007060 -0.068435        -0.003050     -0.015059  \n",
       "EmploymentSince             -0.225763 -0.270485        -0.103222     -0.073919  \n",
       "StatusSex                   -0.106742 -0.186563        -0.089640     -0.238327  \n",
       "OtherDebtors                -0.012690 -0.028294        -0.017662     -0.010990  \n",
       "Property                     0.055260 -0.054186         0.001209     -0.041111  \n",
       "OtherInstallmentPlans       -0.034517  0.021858         0.046993      0.057595  \n",
       "Housing                      0.255106 -0.108437        -0.052609     -0.015004  \n",
       "Job                         -0.009815  0.163801         0.017437      0.053475  \n",
       "Telephone                    0.095359  0.145259         0.065553     -0.014753  \n",
       "ForeignWorker               -0.054097 -0.006151        -0.009717      0.077071  \n",
       "Amount                       0.028926  0.032716         0.020795      0.017142  \n",
       "Duration                     0.034067 -0.036136        -0.011284     -0.023834  \n",
       "InstallmentRate              0.049302  0.058266         0.021669     -0.071207  \n",
       "ResidenceSince               1.000000  0.266419         0.089625      0.042643  \n",
       "Age                          0.266419  1.000000         0.149254      0.118201  \n",
       "ExistingCredits              0.089625  0.149254         1.000000      0.109667  \n",
       "PeopleLiable                 0.042643  0.118201         0.109667      1.000000  "
      ]
     },
     "execution_count": 482,
     "metadata": {},
     "output_type": "execute_result"
    }
   ],
   "source": [
    "germanACP.corr()"
   ]
  },
  {
   "cell_type": "code",
   "execution_count": 484,
   "metadata": {},
   "outputs": [
    {
     "name": "stdout",
     "output_type": "stream",
     "text": [
      "ExistingChecking ['ExistingChecking']\n",
      "History ['History']\n",
      "Purpose ['Purpose']\n",
      "Savings ['Savings']\n",
      "EmploymentSince ['EmploymentSince']\n",
      "StatusSex ['StatusSex']\n",
      "OtherDebtors ['OtherDebtors']\n",
      "Property ['Property']\n",
      "OtherInstallmentPlans ['OtherInstallmentPlans']\n",
      "Housing ['Housing']\n",
      "Job ['Job']\n",
      "Telephone ['Telephone']\n",
      "ForeignWorker ['ForeignWorker']\n",
      "Amount ['Amount' 'Duration']\n",
      "Duration ['Amount' 'Duration']\n",
      "InstallmentRate ['InstallmentRate']\n",
      "ResidenceSince ['ResidenceSince']\n",
      "Age ['Age']\n",
      "ExistingCredits ['ExistingCredits']\n",
      "PeopleLiable ['PeopleLiable']\n"
     ]
    }
   ],
   "source": [
    "col_names = germanACP.corr().columns.values\n",
    "#Vérification des corrélations  (>=0.6)\n",
    "for col, row in (germanACP.corr().abs() >= 0.6).iteritems():\n",
    "    print(col, col_names[row.values])"
   ]
  },
  {
   "cell_type": "code",
   "execution_count": 486,
   "metadata": {},
   "outputs": [],
   "source": [
    "germanACP.drop(columns = [\"Duration\"],   inplace = True)"
   ]
  },
  {
   "cell_type": "code",
   "execution_count": 487,
   "metadata": {},
   "outputs": [
    {
     "data": {
      "text/html": [
       "<div>\n",
       "<style scoped>\n",
       "    .dataframe tbody tr th:only-of-type {\n",
       "        vertical-align: middle;\n",
       "    }\n",
       "\n",
       "    .dataframe tbody tr th {\n",
       "        vertical-align: top;\n",
       "    }\n",
       "\n",
       "    .dataframe thead th {\n",
       "        text-align: right;\n",
       "    }\n",
       "</style>\n",
       "<table border=\"1\" class=\"dataframe\">\n",
       "  <thead>\n",
       "    <tr style=\"text-align: right;\">\n",
       "      <th></th>\n",
       "      <th>ExistingChecking</th>\n",
       "      <th>History</th>\n",
       "      <th>Purpose</th>\n",
       "      <th>Savings</th>\n",
       "      <th>EmploymentSince</th>\n",
       "      <th>StatusSex</th>\n",
       "      <th>OtherDebtors</th>\n",
       "      <th>Property</th>\n",
       "      <th>OtherInstallmentPlans</th>\n",
       "      <th>Housing</th>\n",
       "      <th>Job</th>\n",
       "      <th>Telephone</th>\n",
       "      <th>ForeignWorker</th>\n",
       "      <th>Amount</th>\n",
       "      <th>InstallmentRate</th>\n",
       "      <th>ResidenceSince</th>\n",
       "      <th>Age</th>\n",
       "      <th>ExistingCredits</th>\n",
       "      <th>PeopleLiable</th>\n",
       "    </tr>\n",
       "  </thead>\n",
       "  <tbody>\n",
       "    <tr>\n",
       "      <th>0</th>\n",
       "      <td>0</td>\n",
       "      <td>0</td>\n",
       "      <td>0</td>\n",
       "      <td>0</td>\n",
       "      <td>0</td>\n",
       "      <td>0</td>\n",
       "      <td>0</td>\n",
       "      <td>0</td>\n",
       "      <td>0</td>\n",
       "      <td>0</td>\n",
       "      <td>0</td>\n",
       "      <td>1</td>\n",
       "      <td>0</td>\n",
       "      <td>1169</td>\n",
       "      <td>4</td>\n",
       "      <td>4</td>\n",
       "      <td>67</td>\n",
       "      <td>2</td>\n",
       "      <td>1</td>\n",
       "    </tr>\n",
       "    <tr>\n",
       "      <th>1</th>\n",
       "      <td>1</td>\n",
       "      <td>1</td>\n",
       "      <td>0</td>\n",
       "      <td>1</td>\n",
       "      <td>1</td>\n",
       "      <td>1</td>\n",
       "      <td>0</td>\n",
       "      <td>0</td>\n",
       "      <td>0</td>\n",
       "      <td>0</td>\n",
       "      <td>0</td>\n",
       "      <td>0</td>\n",
       "      <td>0</td>\n",
       "      <td>5951</td>\n",
       "      <td>2</td>\n",
       "      <td>2</td>\n",
       "      <td>22</td>\n",
       "      <td>1</td>\n",
       "      <td>1</td>\n",
       "    </tr>\n",
       "    <tr>\n",
       "      <th>2</th>\n",
       "      <td>2</td>\n",
       "      <td>0</td>\n",
       "      <td>1</td>\n",
       "      <td>1</td>\n",
       "      <td>2</td>\n",
       "      <td>0</td>\n",
       "      <td>0</td>\n",
       "      <td>0</td>\n",
       "      <td>0</td>\n",
       "      <td>0</td>\n",
       "      <td>1</td>\n",
       "      <td>0</td>\n",
       "      <td>0</td>\n",
       "      <td>2096</td>\n",
       "      <td>2</td>\n",
       "      <td>3</td>\n",
       "      <td>49</td>\n",
       "      <td>1</td>\n",
       "      <td>2</td>\n",
       "    </tr>\n",
       "    <tr>\n",
       "      <th>3</th>\n",
       "      <td>0</td>\n",
       "      <td>1</td>\n",
       "      <td>2</td>\n",
       "      <td>1</td>\n",
       "      <td>2</td>\n",
       "      <td>0</td>\n",
       "      <td>1</td>\n",
       "      <td>1</td>\n",
       "      <td>0</td>\n",
       "      <td>1</td>\n",
       "      <td>0</td>\n",
       "      <td>0</td>\n",
       "      <td>0</td>\n",
       "      <td>7882</td>\n",
       "      <td>2</td>\n",
       "      <td>4</td>\n",
       "      <td>45</td>\n",
       "      <td>1</td>\n",
       "      <td>2</td>\n",
       "    </tr>\n",
       "    <tr>\n",
       "      <th>4</th>\n",
       "      <td>0</td>\n",
       "      <td>2</td>\n",
       "      <td>3</td>\n",
       "      <td>1</td>\n",
       "      <td>1</td>\n",
       "      <td>0</td>\n",
       "      <td>0</td>\n",
       "      <td>2</td>\n",
       "      <td>0</td>\n",
       "      <td>1</td>\n",
       "      <td>0</td>\n",
       "      <td>0</td>\n",
       "      <td>0</td>\n",
       "      <td>4870</td>\n",
       "      <td>3</td>\n",
       "      <td>4</td>\n",
       "      <td>53</td>\n",
       "      <td>2</td>\n",
       "      <td>2</td>\n",
       "    </tr>\n",
       "  </tbody>\n",
       "</table>\n",
       "</div>"
      ],
      "text/plain": [
       "   ExistingChecking  History  Purpose  Savings  EmploymentSince  StatusSex  \\\n",
       "0                 0        0        0        0                0          0   \n",
       "1                 1        1        0        1                1          1   \n",
       "2                 2        0        1        1                2          0   \n",
       "3                 0        1        2        1                2          0   \n",
       "4                 0        2        3        1                1          0   \n",
       "\n",
       "   OtherDebtors  Property  OtherInstallmentPlans  Housing  Job  Telephone  \\\n",
       "0             0         0                      0        0    0          1   \n",
       "1             0         0                      0        0    0          0   \n",
       "2             0         0                      0        0    1          0   \n",
       "3             1         1                      0        1    0          0   \n",
       "4             0         2                      0        1    0          0   \n",
       "\n",
       "   ForeignWorker  Amount  InstallmentRate  ResidenceSince  Age  \\\n",
       "0              0    1169                4               4   67   \n",
       "1              0    5951                2               2   22   \n",
       "2              0    2096                2               3   49   \n",
       "3              0    7882                2               4   45   \n",
       "4              0    4870                3               4   53   \n",
       "\n",
       "   ExistingCredits  PeopleLiable  \n",
       "0                2             1  \n",
       "1                1             1  \n",
       "2                1             2  \n",
       "3                1             2  \n",
       "4                2             2  "
      ]
     },
     "execution_count": 487,
     "metadata": {},
     "output_type": "execute_result"
    }
   ],
   "source": [
    "germanACP.head()"
   ]
  },
  {
   "cell_type": "markdown",
   "metadata": {},
   "source": [
    "## Clustering "
   ]
  },
  {
   "cell_type": "markdown",
   "metadata": {},
   "source": [
    "### K-MEANS"
   ]
  },
  {
   "cell_type": "code",
   "execution_count": 488,
   "metadata": {},
   "outputs": [],
   "source": [
    "#data = final_data.drop(columns=['ExistingChecking','History','Purpose','Savings','EmploymentSince','StatusSex','OtherDebtors','Property','OtherInstallmentPlans','Housing','Job','Telephone','ForeignWorker','Class'])\n",
    "data = germanACP\n",
    "classification =np.array(final_data.Class)\n"
   ]
  },
  {
   "cell_type": "code",
   "execution_count": 489,
   "metadata": {},
   "outputs": [
    {
     "data": {
      "text/html": [
       "<div>\n",
       "<style scoped>\n",
       "    .dataframe tbody tr th:only-of-type {\n",
       "        vertical-align: middle;\n",
       "    }\n",
       "\n",
       "    .dataframe tbody tr th {\n",
       "        vertical-align: top;\n",
       "    }\n",
       "\n",
       "    .dataframe thead th {\n",
       "        text-align: right;\n",
       "    }\n",
       "</style>\n",
       "<table border=\"1\" class=\"dataframe\">\n",
       "  <thead>\n",
       "    <tr style=\"text-align: right;\">\n",
       "      <th></th>\n",
       "      <th>ExistingChecking</th>\n",
       "      <th>History</th>\n",
       "      <th>Purpose</th>\n",
       "      <th>Savings</th>\n",
       "      <th>EmploymentSince</th>\n",
       "      <th>StatusSex</th>\n",
       "      <th>OtherDebtors</th>\n",
       "      <th>Property</th>\n",
       "      <th>OtherInstallmentPlans</th>\n",
       "      <th>Housing</th>\n",
       "      <th>Job</th>\n",
       "      <th>Telephone</th>\n",
       "      <th>ForeignWorker</th>\n",
       "      <th>Amount</th>\n",
       "      <th>InstallmentRate</th>\n",
       "      <th>ResidenceSince</th>\n",
       "      <th>Age</th>\n",
       "      <th>ExistingCredits</th>\n",
       "      <th>PeopleLiable</th>\n",
       "    </tr>\n",
       "  </thead>\n",
       "  <tbody>\n",
       "    <tr>\n",
       "      <th>0</th>\n",
       "      <td>0</td>\n",
       "      <td>0</td>\n",
       "      <td>0</td>\n",
       "      <td>0</td>\n",
       "      <td>0</td>\n",
       "      <td>0</td>\n",
       "      <td>0</td>\n",
       "      <td>0</td>\n",
       "      <td>0</td>\n",
       "      <td>0</td>\n",
       "      <td>0</td>\n",
       "      <td>1</td>\n",
       "      <td>0</td>\n",
       "      <td>1169</td>\n",
       "      <td>4</td>\n",
       "      <td>4</td>\n",
       "      <td>67</td>\n",
       "      <td>2</td>\n",
       "      <td>1</td>\n",
       "    </tr>\n",
       "    <tr>\n",
       "      <th>1</th>\n",
       "      <td>1</td>\n",
       "      <td>1</td>\n",
       "      <td>0</td>\n",
       "      <td>1</td>\n",
       "      <td>1</td>\n",
       "      <td>1</td>\n",
       "      <td>0</td>\n",
       "      <td>0</td>\n",
       "      <td>0</td>\n",
       "      <td>0</td>\n",
       "      <td>0</td>\n",
       "      <td>0</td>\n",
       "      <td>0</td>\n",
       "      <td>5951</td>\n",
       "      <td>2</td>\n",
       "      <td>2</td>\n",
       "      <td>22</td>\n",
       "      <td>1</td>\n",
       "      <td>1</td>\n",
       "    </tr>\n",
       "    <tr>\n",
       "      <th>2</th>\n",
       "      <td>2</td>\n",
       "      <td>0</td>\n",
       "      <td>1</td>\n",
       "      <td>1</td>\n",
       "      <td>2</td>\n",
       "      <td>0</td>\n",
       "      <td>0</td>\n",
       "      <td>0</td>\n",
       "      <td>0</td>\n",
       "      <td>0</td>\n",
       "      <td>1</td>\n",
       "      <td>0</td>\n",
       "      <td>0</td>\n",
       "      <td>2096</td>\n",
       "      <td>2</td>\n",
       "      <td>3</td>\n",
       "      <td>49</td>\n",
       "      <td>1</td>\n",
       "      <td>2</td>\n",
       "    </tr>\n",
       "    <tr>\n",
       "      <th>3</th>\n",
       "      <td>0</td>\n",
       "      <td>1</td>\n",
       "      <td>2</td>\n",
       "      <td>1</td>\n",
       "      <td>2</td>\n",
       "      <td>0</td>\n",
       "      <td>1</td>\n",
       "      <td>1</td>\n",
       "      <td>0</td>\n",
       "      <td>1</td>\n",
       "      <td>0</td>\n",
       "      <td>0</td>\n",
       "      <td>0</td>\n",
       "      <td>7882</td>\n",
       "      <td>2</td>\n",
       "      <td>4</td>\n",
       "      <td>45</td>\n",
       "      <td>1</td>\n",
       "      <td>2</td>\n",
       "    </tr>\n",
       "    <tr>\n",
       "      <th>4</th>\n",
       "      <td>0</td>\n",
       "      <td>2</td>\n",
       "      <td>3</td>\n",
       "      <td>1</td>\n",
       "      <td>1</td>\n",
       "      <td>0</td>\n",
       "      <td>0</td>\n",
       "      <td>2</td>\n",
       "      <td>0</td>\n",
       "      <td>1</td>\n",
       "      <td>0</td>\n",
       "      <td>0</td>\n",
       "      <td>0</td>\n",
       "      <td>4870</td>\n",
       "      <td>3</td>\n",
       "      <td>4</td>\n",
       "      <td>53</td>\n",
       "      <td>2</td>\n",
       "      <td>2</td>\n",
       "    </tr>\n",
       "  </tbody>\n",
       "</table>\n",
       "</div>"
      ],
      "text/plain": [
       "   ExistingChecking  History  Purpose  Savings  EmploymentSince  StatusSex  \\\n",
       "0                 0        0        0        0                0          0   \n",
       "1                 1        1        0        1                1          1   \n",
       "2                 2        0        1        1                2          0   \n",
       "3                 0        1        2        1                2          0   \n",
       "4                 0        2        3        1                1          0   \n",
       "\n",
       "   OtherDebtors  Property  OtherInstallmentPlans  Housing  Job  Telephone  \\\n",
       "0             0         0                      0        0    0          1   \n",
       "1             0         0                      0        0    0          0   \n",
       "2             0         0                      0        0    1          0   \n",
       "3             1         1                      0        1    0          0   \n",
       "4             0         2                      0        1    0          0   \n",
       "\n",
       "   ForeignWorker  Amount  InstallmentRate  ResidenceSince  Age  \\\n",
       "0              0    1169                4               4   67   \n",
       "1              0    5951                2               2   22   \n",
       "2              0    2096                2               3   49   \n",
       "3              0    7882                2               4   45   \n",
       "4              0    4870                3               4   53   \n",
       "\n",
       "   ExistingCredits  PeopleLiable  \n",
       "0                2             1  \n",
       "1                1             1  \n",
       "2                1             2  \n",
       "3                1             2  \n",
       "4                2             2  "
      ]
     },
     "execution_count": 489,
     "metadata": {},
     "output_type": "execute_result"
    }
   ],
   "source": [
    "data.head()"
   ]
  },
  {
   "cell_type": "code",
   "execution_count": 490,
   "metadata": {},
   "outputs": [],
   "source": [
    "from sklearn.cluster import KMeans\n",
    "wcss = []\n",
    "\n",
    "for i in range(1, 11):\n",
    "    kmeans = KMeans(n_clusters=i, init=\"k-means++\", max_iter=300, n_init=10, random_state=0)\n",
    "    kmeans.fit(data)\n",
    "    wcss.append(kmeans.inertia_)"
   ]
  },
  {
   "cell_type": "code",
   "execution_count": 491,
   "metadata": {},
   "outputs": [
    {
     "data": {
      "image/png": "[encoded data removed]",
      "text/plain": [
       "<Figure size 432x288 with 1 Axes>"
      ]
     },
     "metadata": {
      "needs_background": "light"
     },
     "output_type": "display_data"
    }
   ],
   "source": [
    "plt.plot(range(1, 11), wcss)\n",
    "plt.title(\"Elbow Method\")\n",
    "plt.xlabel(\"Number of clusters\")\n",
    "plt.ylabel(\"WCSS\")\n",
    "plt.show()"
   ]
  },
  {
   "cell_type": "code",
   "execution_count": 492,
   "metadata": {},
   "outputs": [
    {
     "data": {
      "text/plain": [
       "KMeans(algorithm='auto', copy_x=True, init='k-means++', max_iter=2000,\n",
       "       n_clusters=2, n_init=10, n_jobs=None, precompute_distances='auto',\n",
       "       random_state=0, tol=0.0001, verbose=0)"
      ]
     },
     "execution_count": 492,
     "metadata": {},
     "output_type": "execute_result"
    }
   ],
   "source": [
    "kmeans = KMeans(n_clusters = 2, init = \"k-means++\", max_iter = 2000, n_init = 10, random_state = 0)\n",
    "kmeans.fit(data)"
   ]
  },
  {
   "cell_type": "code",
   "execution_count": 493,
   "metadata": {},
   "outputs": [
    {
     "data": {
      "text/html": [
       "<div>\n",
       "<style scoped>\n",
       "    .dataframe tbody tr th:only-of-type {\n",
       "        vertical-align: middle;\n",
       "    }\n",
       "\n",
       "    .dataframe tbody tr th {\n",
       "        vertical-align: top;\n",
       "    }\n",
       "\n",
       "    .dataframe thead th {\n",
       "        text-align: right;\n",
       "    }\n",
       "</style>\n",
       "<table border=\"1\" class=\"dataframe\">\n",
       "  <thead>\n",
       "    <tr style=\"text-align: right;\">\n",
       "      <th>col_0</th>\n",
       "      <th>0</th>\n",
       "      <th>1</th>\n",
       "    </tr>\n",
       "    <tr>\n",
       "      <th>row_0</th>\n",
       "      <th></th>\n",
       "      <th></th>\n",
       "    </tr>\n",
       "  </thead>\n",
       "  <tbody>\n",
       "    <tr>\n",
       "      <th>0</th>\n",
       "      <td>72</td>\n",
       "      <td>228</td>\n",
       "    </tr>\n",
       "    <tr>\n",
       "      <th>1</th>\n",
       "      <td>101</td>\n",
       "      <td>599</td>\n",
       "    </tr>\n",
       "  </tbody>\n",
       "</table>\n",
       "</div>"
      ],
      "text/plain": [
       "col_0    0    1\n",
       "row_0          \n",
       "0       72  228\n",
       "1      101  599"
      ]
     },
     "execution_count": 493,
     "metadata": {},
     "output_type": "execute_result"
    }
   ],
   "source": [
    "pd.crosstab(classification, kmeans.labels_)"
   ]
  },
  {
   "cell_type": "markdown",
   "metadata": {},
   "source": [
    "### DBSCAN "
   ]
  },
  {
   "cell_type": "code",
   "execution_count": 495,
   "metadata": {},
   "outputs": [],
   "source": [
    "germanACPDBS=germanACP\n",
    "import numpy as np\n",
    "from sklearn.datasets.samples_generator import make_blobs\n",
    "from sklearn.neighbors import NearestNeighbors\n",
    "from sklearn.cluster import DBSCAN\n",
    "from matplotlib import pyplot as plt\n",
    "import seaborn as sns\n",
    "sns.set()"
   ]
  },
  {
   "cell_type": "code",
   "execution_count": 496,
   "metadata": {},
   "outputs": [],
   "source": [
    "m = DBSCAN().fit(germanACPDBS)"
   ]
  },
  {
   "cell_type": "code",
   "execution_count": 498,
   "metadata": {},
   "outputs": [
    {
     "data": {
      "text/html": [
       "<div>\n",
       "<style scoped>\n",
       "    .dataframe tbody tr th:only-of-type {\n",
       "        vertical-align: middle;\n",
       "    }\n",
       "\n",
       "    .dataframe tbody tr th {\n",
       "        vertical-align: top;\n",
       "    }\n",
       "\n",
       "    .dataframe thead th {\n",
       "        text-align: right;\n",
       "    }\n",
       "</style>\n",
       "<table border=\"1\" class=\"dataframe\">\n",
       "  <thead>\n",
       "    <tr style=\"text-align: right;\">\n",
       "      <th>col_0</th>\n",
       "      <th>-1</th>\n",
       "    </tr>\n",
       "    <tr>\n",
       "      <th>row_0</th>\n",
       "      <th></th>\n",
       "    </tr>\n",
       "  </thead>\n",
       "  <tbody>\n",
       "    <tr>\n",
       "      <th>0</th>\n",
       "      <td>300</td>\n",
       "    </tr>\n",
       "    <tr>\n",
       "      <th>1</th>\n",
       "      <td>700</td>\n",
       "    </tr>\n",
       "  </tbody>\n",
       "</table>\n",
       "</div>"
      ],
      "text/plain": [
       "col_0   -1\n",
       "row_0     \n",
       "0      300\n",
       "1      700"
      ]
     },
     "execution_count": 498,
     "metadata": {},
     "output_type": "execute_result"
    }
   ],
   "source": [
    "pd.crosstab(classification,m.labels_)"
   ]
  },
  {
   "cell_type": "markdown",
   "metadata": {},
   "source": [
    "### CAH "
   ]
  },
  {
   "cell_type": "code",
   "execution_count": 499,
   "metadata": {},
   "outputs": [
    {
     "data": {
      "image/png": "[encoded data removed]",
      "text/plain": [
       "<Figure size 432x288 with 1 Axes>"
      ]
     },
     "metadata": {},
     "output_type": "display_data"
    }
   ],
   "source": [
    "\n",
    "germanACPCAH=germanACP\n",
    "from scipy.cluster.hierarchy import dendrogram, linkage,fcluster\n",
    "Z = linkage(germanACPCAH,method='ward',metric='euclidean')\n",
    "plt.title(\"CHA\") \n",
    "dendrogram(Z,orientation='left',color_threshold=0) \n",
    "plt.show()"
   ]
  },
  {
   "cell_type": "code",
   "execution_count": 503,
   "metadata": {},
   "outputs": [
    {
     "data": {
      "image/png": "[encoded data removed]",
      "text/plain": [
       "<Figure size 432x288 with 1 Axes>"
      ]
     },
     "metadata": {},
     "output_type": "display_data"
    },
    {
     "name": "stdout",
     "output_type": "stream",
     "text": [
      "[1 2 1 2 2 2 1 2 1 2 1 1 1 1 1 1 1 2 2 1 1 1 1 1 1 1 1 1 1 2 1 1 2 1 1 2 2\n",
      " 1 1 1 1 1 2 2 2 1 1 1 2 1 1 2 1 1 1 1 2 2 1 2 1 1 1 2 1 2 1 1 1 1 2 1 1 2\n",
      " 1 1 1 2 2 1 2 1 1 1 1 1 1 2 1 1 1 1 1 1 1 2 1 1 1 2 1 1 1 1 1 2 2 2 2 1 1\n",
      " 1 2 2 1 1 2 1 1 1 1 1 1 1 1 1 1 1 1 1 2 2 1 1 2 1 2 1 1 1 1 2 1 1 1 1 1 1\n",
      " 2 1 1 1 2 2 2 1 1 1 1 1 1 1 1 2 1 1 1 1 1 1 1 1 1 1 1 2 1 1 1 1 2 2 1 1 1\n",
      " 1 2 1 1 1 2 1 1 1 1 1 1 1 1 1 1 1 2 1 1 2 1 1 2 1 1 1 2 1 1 1 1 1 1 1 1 1\n",
      " 1 1 2 1 2 2 1 1 1 1 1 1 1 1 2 1 1 1 1 1 2 1 1 1 1 1 1 1 1 1 1 1 1 2 1 1 1\n",
      " 1 1 1 2 1 1 1 2 1 2 1 1 1 2 1 2 1 1 1 2 1 1 1 1 1 1 2 2 2 1 1 1 2 2 2 2 2\n",
      " 2 1 1 1 1 1 1 1 2 1 2 1 1 1 2 2 1 1 1 1 1 1 1 1 1 1 1 1 1 1 2 1 2 1 2 1 2\n",
      " 2 1 1 1 1 1 1 2 1 1 2 1 1 1 1 1 1 1 1 1 2 1 1 1 2 1 1 1 1 1 1 1 1 1 1 1 1\n",
      " 1 2 1 2 2 2 1 1 2 1 1 2 1 1 1 1 1 2 1 1 1 1 1 1 1 2 1 1 1 1 1 1 2 1 1 1 1\n",
      " 1 1 1 1 2 1 1 1 2 1 2 1 1 1 1 1 1 1 1 1 1 1 1 1 2 1 1 1 1 1 1 1 1 1 1 1 1\n",
      " 2 1 1 1 1 1 2 1 1 1 2 1 1 1 1 2 1 1 1 1 1 1 1 2 1 2 1 1 1 1 1 1 1 2 1 1 1\n",
      " 1 1 1 1 1 1 1 1 1 1 2 1 1 1 1 2 1 1 1 1 2 1 1 1 1 1 2 1 2 1 2 1 1 1 1 1 2\n",
      " 1 1 2 1 2 1 1 2 1 1 1 1 1 1 1 1 1 1 1 1 2 1 1 1 2 1 1 1 1 1 1 2 1 1 2 1 1\n",
      " 1 1 2 1 1 1 1 1 2 2 1 1 1 1 2 1 2 2 1 1 1 1 1 1 1 1 1 1 1 1 1 1 1 1 1 1 1\n",
      " 1 1 1 1 1 1 1 1 1 1 1 1 1 1 2 1 1 1 1 1 1 1 1 2 2 1 1 1 1 1 1 1 1 1 1 1 1\n",
      " 1 1 1 1 1 1 1 1 2 1 1 1 1 2 1 1 2 2 1 1 1 2 1 1 2 1 1 1 2 1 2 1 1 1 1 1 2\n",
      " 1 1 2 1 1 2 2 1 1 2 2 2 1 1 1 1 1 2 2 2 1 1 1 1 1 1 1 2 1 1 1 1 1 1 1 2 1\n",
      " 1 1 2 2 1 1 1 1 1 1 1 2 2 1 1 1 2 1 1 1 1 1 1 1 1 2 1 2 1 1 1 1 1 2 1 2 1\n",
      " 1 1 1 1 2 1 1 1 2 1 1 1 1 2 1 1 1 1 1 1 2 1 1 2 1 1 1 1 1 1 1 2 1 1 1 1 1\n",
      " 1 2 1 2 1 1 1 2 1 1 1 2 2 1 2 1 1 1 1 2 1 1 1 1 1 1 1 2 2 1 1 2 1 1 1 2 1\n",
      " 1 2 1 1 2 1 1 1 1 1 1 1 1 1 2 2 1 1 2 2 1 1 1 1 1 1 2 1 1 1 1 1 2 1 1 1 1\n",
      " 1 1 1 2 1 1 1 1 1 2 1 1 2 1 1 1 1 2 1 2 1 1 1 1 1 1 1 1 2 2 2 1 1 1 1 1 2\n",
      " 2 2 1 1 1 2 1 2 1 1 1 1 1 1 2 1 1 1 1 1 1 1 2 2 1 1 1 2 1 2 1 1 1 2 1 1 2\n",
      " 1 1 2 1 1 1 1 1 1 1 1 1 1 2 2 1 1 1 1 1 2 1 1 1 1 1 1 1 2 1 1 1 1 1 1 1 1\n",
      " 1 1 1 1 1 1 2 1 1 2 1 2 1 1 1 1 1 1 2 2 1 2 1 1 2 1 2 1 1 1 1 1 1 1 1 1 1\n",
      " 2]\n",
      "      0\n",
      "1     0\n",
      "1   610\n",
      "1   611\n",
      "1   612\n",
      "1   613\n",
      "1   614\n",
      "1   617\n",
      "1   618\n",
      "1   619\n",
      "1   620\n",
      "1   621\n",
      "1   622\n",
      "1   623\n",
      "1   624\n",
      "1   625\n",
      "1   626\n",
      "1   627\n",
      "1   628\n",
      "1   629\n",
      "1   630\n",
      "1   631\n",
      "1   632\n",
      "1   633\n",
      "1   634\n",
      "1   609\n",
      "1   608\n",
      "1   607\n",
      "1   605\n",
      "1   581\n",
      "1   582\n",
      "..  ...\n",
      "2   181\n",
      "2   180\n",
      "2   572\n",
      "2   571\n",
      "2   175\n",
      "2   771\n",
      "2   569\n",
      "2   340\n",
      "2   564\n",
      "2   778\n",
      "2   563\n",
      "2   780\n",
      "2   343\n",
      "2   784\n",
      "2   148\n",
      "2   805\n",
      "2   804\n",
      "2   549\n",
      "2   152\n",
      "2   153\n",
      "2   105\n",
      "2   154\n",
      "2   796\n",
      "2   791\n",
      "2   557\n",
      "2   789\n",
      "2   788\n",
      "2   163\n",
      "2   552\n",
      "2   999\n",
      "\n",
      "[1000 rows x 1 columns]\n"
     ]
    }
   ],
   "source": [
    "# matérialisation des deux classes \n",
    "plt.title('CAH avec matérialisation des 2 classes') \n",
    "dendrogram(Z,orientation='left',color_threshold=60000) \n",
    "plt.show()\n",
    "\n",
    "#découpage à la hauteur t ==> identifiants de 2 groupes obtenus \n",
    "groupes_cah = fcluster(Z,t=60000,criterion='distance') \n",
    "print(groupes_cah)\n",
    "\n",
    "#index triés des groupes \n",
    "import numpy as np \n",
    "idg = np.argsort(groupes_cah)\n",
    "\n",
    "#affichage des observations et leurs groupes\n",
    "print(pd.DataFrame(germanACPCAH.index[idg],groupes_cah[idg])) ; \n",
    "\n"
   ]
  },
  {
   "cell_type": "markdown",
   "metadata": {},
   "source": [
    "#### => on ne peut pas choisir le meilleur algorithme car on ne trouve pas celui qui distingue vraiment les 2 types de clients et donc on ne peut pas distinguer les caracteristiques de chaque type"
   ]
  },
  {
   "cell_type": "code",
   "execution_count": 504,
   "metadata": {},
   "outputs": [
    {
     "data": {
      "text/html": [
       "<div>\n",
       "<style scoped>\n",
       "    .dataframe tbody tr th:only-of-type {\n",
       "        vertical-align: middle;\n",
       "    }\n",
       "\n",
       "    .dataframe tbody tr th {\n",
       "        vertical-align: top;\n",
       "    }\n",
       "\n",
       "    .dataframe thead th {\n",
       "        text-align: right;\n",
       "    }\n",
       "</style>\n",
       "<table border=\"1\" class=\"dataframe\">\n",
       "  <thead>\n",
       "    <tr style=\"text-align: right;\">\n",
       "      <th>col_0</th>\n",
       "      <th>1</th>\n",
       "      <th>2</th>\n",
       "    </tr>\n",
       "    <tr>\n",
       "      <th>row_0</th>\n",
       "      <th></th>\n",
       "      <th></th>\n",
       "    </tr>\n",
       "  </thead>\n",
       "  <tbody>\n",
       "    <tr>\n",
       "      <th>0</th>\n",
       "      <td>209</td>\n",
       "      <td>91</td>\n",
       "    </tr>\n",
       "    <tr>\n",
       "      <th>1</th>\n",
       "      <td>570</td>\n",
       "      <td>130</td>\n",
       "    </tr>\n",
       "  </tbody>\n",
       "</table>\n",
       "</div>"
      ],
      "text/plain": [
       "col_0    1    2\n",
       "row_0          \n",
       "0      209   91\n",
       "1      570  130"
      ]
     },
     "execution_count": 504,
     "metadata": {},
     "output_type": "execute_result"
    }
   ],
   "source": [
    "pd.crosstab(classification,groupes_cah)"
   ]
  },
  {
   "cell_type": "markdown",
   "metadata": {},
   "source": [
    "### Classification "
   ]
  },
  {
   "cell_type": "code",
   "execution_count": 506,
   "metadata": {},
   "outputs": [],
   "source": [
    "X = germanACP.values\n",
    "y = classification"
   ]
  },
  {
   "cell_type": "code",
   "execution_count": 508,
   "metadata": {},
   "outputs": [],
   "source": [
    "from sklearn.model_selection import train_test_split\n",
    "X_train, X_test, y_train, y_test = train_test_split(X, y, random_state = 0)"
   ]
  },
  {
   "cell_type": "code",
   "execution_count": 509,
   "metadata": {},
   "outputs": [],
   "source": [
    "# Centrage et réduction\n",
    "from sklearn.preprocessing import MinMaxScaler\n",
    "scaler = MinMaxScaler()\n",
    "X_train = scaler.fit_transform(X_train)\n",
    "X_test = scaler.fit_transform(X_test)"
   ]
  },
  {
   "cell_type": "code",
   "execution_count": 510,
   "metadata": {},
   "outputs": [],
   "source": [
    "from sklearn.neighbors import KNeighborsClassifier\n",
    "from sklearn.tree import DecisionTreeClassifier\n",
    "error = []\n",
    "\n",
    "for i in range(1, 40):\n",
    "    knn = KNeighborsClassifier(i)\n",
    "    knn_model = knn.fit(X_train, y_train)\n",
    "    pred_i = knn_model.predict(X_test)\n",
    "    error.append(np.mean(pred_i != y_test))"
   ]
  },
  {
   "cell_type": "code",
   "execution_count": 511,
   "metadata": {},
   "outputs": [
    {
     "data": {
      "text/plain": [
       "Text(0, 0.5, 'Erreur')"
      ]
     },
     "execution_count": 511,
     "metadata": {},
     "output_type": "execute_result"
    },
    {
     "data": {
      "image/png": "[encoded data removed]",
      "text/plain": [
       "<Figure size 864x432 with 1 Axes>"
      ]
     },
     "metadata": {},
     "output_type": "display_data"
    }
   ],
   "source": [
    "plt.figure(figsize=(12, 6))\n",
    "plt.plot(range(1, 40), error, color='red', linestyle='dashed', marker='o',\n",
    "         markerfacecolor='blue', markersize=10)\n",
    "plt.title('Taux d\\'erreur pour les differentes valeurs de k')\n",
    "plt.xlabel('K')\n",
    "plt.ylabel('Erreur')"
   ]
  },
  {
   "cell_type": "code",
   "execution_count": 512,
   "metadata": {},
   "outputs": [],
   "source": [
    "knn = KNeighborsClassifier(6)\n",
    "knn_model = knn.fit(X_train, y_train)\n",
    "y_pred_knn = knn_model.predict(X_test)"
   ]
  },
  {
   "cell_type": "code",
   "execution_count": 513,
   "metadata": {},
   "outputs": [
    {
     "name": "stdout",
     "output_type": "stream",
     "text": [
      "250\n"
     ]
    }
   ],
   "source": [
    "print(len(y_pred_knn))"
   ]
  },
  {
   "cell_type": "code",
   "execution_count": 514,
   "metadata": {},
   "outputs": [
    {
     "name": "stdout",
     "output_type": "stream",
     "text": [
      "[[ 38  36]\n",
      " [ 31 145]]\n"
     ]
    }
   ],
   "source": [
    "# Matrice de confusion\n",
    "from sklearn.metrics import confusion_matrix\n",
    "print(confusion_matrix(y_test, y_pred_knn))"
   ]
  },
  {
   "cell_type": "code",
   "execution_count": 515,
   "metadata": {},
   "outputs": [
    {
     "name": "stdout",
     "output_type": "stream",
     "text": [
      "Accuracy of K-NN classifier on training set: 0.79\n",
      "Accuracy of K-NN classifier on test set: 0.73\n"
     ]
    }
   ],
   "source": [
    "print('Accuracy of K-NN classifier on training set: {:.2f}'\n",
    "     .format(knn.score(X_train, y_train)))\n",
    "print('Accuracy of K-NN classifier on test set: {:.2f}'\n",
    "     .format(knn.score(X_test, y_test)))"
   ]
  },
  {
   "cell_type": "code",
   "execution_count": 516,
   "metadata": {},
   "outputs": [
    {
     "name": "stdout",
     "output_type": "stream",
     "text": [
      "              precision    recall  f1-score   support\n",
      "\n",
      "           0       0.55      0.51      0.53        74\n",
      "           1       0.80      0.82      0.81       176\n",
      "\n",
      "    accuracy                           0.73       250\n",
      "   macro avg       0.68      0.67      0.67       250\n",
      "weighted avg       0.73      0.73      0.73       250\n",
      "\n"
     ]
    }
   ],
   "source": [
    "from sklearn.metrics import classification_report\n",
    "print(classification_report(y_test, y_pred_knn))"
   ]
  },
  {
   "cell_type": "markdown",
   "metadata": {},
   "source": [
    "### CART "
   ]
  },
  {
   "cell_type": "code",
   "execution_count": 520,
   "metadata": {},
   "outputs": [
    {
     "name": "stdout",
     "output_type": "stream",
     "text": [
      "Accuracy of CART classifier on training set: 1.00\n",
      "Accuracy of CART classifier on test set: 0.65\n"
     ]
    }
   ],
   "source": [
    "dtc = DecisionTreeClassifier()\n",
    "dtc_model = dtc.fit(X_train, y_train)\n",
    "y_pred_dtc = dtc_model.predict(X_test)\n",
    "print('Accuracy of CART classifier on training set: {:.2f}'\n",
    "     .format(dtc.score(X_train, y_train)))\n",
    "print('Accuracy of CART classifier on test set: {:.2f}'\n",
    "     .format(dtc.score(X_test, y_test)))"
   ]
  },
  {
   "cell_type": "code",
   "execution_count": 521,
   "metadata": {},
   "outputs": [
    {
     "name": "stdout",
     "output_type": "stream",
     "text": [
      "[[ 28  46]\n",
      " [ 41 135]]\n"
     ]
    }
   ],
   "source": [
    "from sklearn.metrics import confusion_matrix\n",
    "print(confusion_matrix(y_test, y_pred_dtc))"
   ]
  },
  {
   "cell_type": "markdown",
   "metadata": {},
   "source": [
    "### Random Forest "
   ]
  },
  {
   "cell_type": "code",
   "execution_count": 522,
   "metadata": {},
   "outputs": [
    {
     "name": "stderr",
     "output_type": "stream",
     "text": [
      "C:\\Users\\chaym\\Anaconda3\\lib\\site-packages\\sklearn\\ensemble\\forest.py:245: FutureWarning: The default value of n_estimators will change from 10 in version 0.20 to 100 in 0.22.\n",
      "  \"10 in version 0.20 to 100 in 0.22.\", FutureWarning)\n"
     ]
    }
   ],
   "source": [
    "from sklearn.ensemble import RandomForestClassifier\n",
    "rfc = RandomForestClassifier()\n",
    "rfc_model = rfc.fit(X_train, y_train)\n",
    "y_pred_rfc = rfc_model.predict(X_test)"
   ]
  },
  {
   "cell_type": "code",
   "execution_count": 523,
   "metadata": {},
   "outputs": [
    {
     "name": "stdout",
     "output_type": "stream",
     "text": [
      "[[ 26  48]\n",
      " [ 33 143]]\n"
     ]
    }
   ],
   "source": [
    "from sklearn.metrics import confusion_matrix\n",
    "print(confusion_matrix(y_test, y_pred_rfc))"
   ]
  },
  {
   "cell_type": "code",
   "execution_count": 524,
   "metadata": {},
   "outputs": [
    {
     "name": "stdout",
     "output_type": "stream",
     "text": [
      "              precision    recall  f1-score   support\n",
      "\n",
      "           0       0.44      0.35      0.39        74\n",
      "           1       0.75      0.81      0.78       176\n",
      "\n",
      "    accuracy                           0.68       250\n",
      "   macro avg       0.59      0.58      0.59       250\n",
      "weighted avg       0.66      0.68      0.66       250\n",
      "\n"
     ]
    }
   ],
   "source": [
    "from sklearn.metrics import classification_report\n",
    "print(classification_report(y_test, y_pred_rfc))"
   ]
  },
  {
   "cell_type": "markdown",
   "metadata": {},
   "source": [
    "### Courbe ROC "
   ]
  },
  {
   "cell_type": "code",
   "execution_count": 525,
   "metadata": {},
   "outputs": [],
   "source": [
    "from sklearn.metrics import roc_curve, auc\n",
    "fpr1, tpr1, threshold1 = roc_curve(y_test, y_pred_dtc) \n",
    "roc_auc1 = auc(fpr1, tpr1)\n",
    "fpr2, tpr2, threshold2 = roc_curve(y_test, y_pred_rfc) \n",
    "roc_auc2 = auc(fpr2, tpr2)\n",
    "fpr3, tpr3, threshold3 = roc_curve(y_test, y_pred_knn)\n",
    "roc_auc3 = auc(fpr3, tpr3)"
   ]
  },
  {
   "cell_type": "code",
   "execution_count": 526,
   "metadata": {},
   "outputs": [
    {
     "data": {
      "image/png": "[encoded data removed]",
      "text/plain": [
       "<Figure size 432x288 with 1 Axes>"
      ]
     },
     "metadata": {},
     "output_type": "display_data"
    }
   ],
   "source": [
    "plt.figure() \n",
    "plt.plot(fpr1, tpr1, color='navy', lw=2, label='CART ROC curve (area = %0.2f)'% roc_auc1)\n",
    "plt.plot(fpr2, tpr2, color='green', lw=2, label='Random Forest ROC curve (area = %0.2f)'% roc_auc2)\n",
    "plt.plot(fpr3, tpr3, color='yellow', lw=2, label='kNN ROC curve (area = %0.2f)'% roc_auc3)\n",
    "plt.plot([0, 1], [0, 1], color='red', lw=2, linestyle='--') \n",
    "plt.xlim([0.0, 1.0]) \n",
    "plt.ylim([0.0, 1.05]) \n",
    "plt.xlabel('False Positive Rate') \n",
    "plt.ylabel('True Positive Rate') \n",
    "plt.title('Classifiers ROC curves') \n",
    "plt.legend(loc = \"lower right\")\n",
    "plt.show()"
   ]
  },
  {
   "cell_type": "markdown",
   "metadata": {},
   "source": [
    "### => KNN a donné les meilleurs résultats "
   ]
  },
  {
   "cell_type": "code",
   "execution_count": 539,
   "metadata": {},
   "outputs": [
    {
     "data": {
      "image/png": "[encoded data removed]",
      "text/plain": [
       "<Figure size 2880x1080 with 8 Axes>"
      ]
     },
     "metadata": {},
     "output_type": "display_data"
    }
   ],
   "source": [
    "\n",
    "import seaborn as sns\n",
    "subset = file[['Job','Purpose','Savings', 'Age', 'StatusSex','Amount','Class', 'Duration','History','EmploymentSince','ExistingChecking','ExistingCredits']]\n",
    "\n",
    "f, axes = plt.subplots(4, 2, figsize=(40, 15), facecolor='white')\n",
    "f.suptitle('FREQUENCY OF CATEGORICAL VARIABLES (BY TARGET)')\n",
    "ax1 = sns.countplot(x=\"History\", hue=\"Class\", data=subset, palette=\"rainbow_r\", ax=axes[0,0])\n",
    "ax2 = sns.countplot(x=\"Age\", hue=\"Class\", data=subset, palette=\"rainbow_r\",ax=axes[0,1])\n",
    "ax3 = sns.countplot(x=\"StatusSex\", hue=\"Class\", data=subset, palette=\"rainbow_r\",ax=axes[1,0])\n",
    "ax4 = sns.countplot(x=\"EmploymentSince\", hue=\"Class\", data=subset, palette=\"rainbow_r\", ax=axes[1,1])\n",
    "ax5 = sns.countplot(x=\"Duration\", hue=\"Class\", data=subset, palette=\"rainbow_r\", ax=axes[2,0])\n",
    "ax6 = sns.countplot(x=\"ExistingChecking\", hue=\"Class\", data=subset, palette=\"rainbow_r\", ax=axes[2,1])\n",
    "ax7 = sns.countplot(x=\"Job\", hue=\"Class\", data=subset, palette=\"rainbow_r\", ax=axes[3,0])\n",
    "ax8 = sns.countplot(x=\"ExistingCredits\", hue=\"Class\", data=subset, palette=\"rainbow_r\", ax=axes[3,1])\n"
   ]
  },
  {
   "cell_type": "code",
   "execution_count": 533,
   "metadata": {},
   "outputs": [],
   "source": [
    "def boxes(x,y,h,r=45):\n",
    "    fig, ax = plt.subplots(figsize=(10,6))\n",
    "    box = sns.boxplot(x=x,y=y, hue=h, data=file)\n",
    "    box.set_xticklabels(box.get_xticklabels(), rotation=r)\n",
    "    fig.subplots_adjust(bottom=0.2)\n",
    "    plt.tight_layout()"
   ]
  },
  {
   "cell_type": "code",
   "execution_count": 534,
   "metadata": {},
   "outputs": [
    {
     "data": {
      "image/png": "[encoded data removed]",
      "text/plain": [
       "<Figure size 720x432 with 1 Axes>"
      ]
     },
     "metadata": {},
     "output_type": "display_data"
    }
   ],
   "source": [
    "boxes(\"Class\",\"Amount\",\"Class\")"
   ]
  },
  {
   "cell_type": "code",
   "execution_count": 1,
   "metadata": {},
   "outputs": [],
   "source": [
    "import numpy as np\n",
    "import plotly.graph_objs as go"
   ]
  },
  {
   "cell_type": "code",
   "execution_count": 2,
   "metadata": {},
   "outputs": [
    {
     "ename": "NameError",
     "evalue": "name 'file' is not defined",
     "output_type": "error",
     "traceback": [
      "\u001b[1;31m---------------------------------------------------------------------------\u001b[0m",
      "\u001b[1;31mNameError\u001b[0m                                 Traceback (most recent call last)",
      "\u001b[1;32m<ipython-input-2-900b66e481ab>\u001b[0m in \u001b[0;36m<module>\u001b[1;34m\u001b[0m\n\u001b[1;32m----> 1\u001b[1;33m \u001b[0mx\u001b[0m\u001b[1;33m=\u001b[0m \u001b[0mfile\u001b[0m\u001b[1;33m[\u001b[0m\u001b[1;33m[\u001b[0m\u001b[1;34m'Job'\u001b[0m\u001b[1;33m]\u001b[0m\u001b[1;33m]\u001b[0m\u001b[1;33m\u001b[0m\u001b[1;33m\u001b[0m\u001b[0m\n\u001b[0m\u001b[0;32m      2\u001b[0m \u001b[0my\u001b[0m\u001b[1;33m=\u001b[0m \u001b[0mfile\u001b[0m\u001b[1;33m[\u001b[0m\u001b[1;33m[\u001b[0m\u001b[1;34m'Class'\u001b[0m\u001b[1;33m]\u001b[0m\u001b[1;33m]\u001b[0m\u001b[1;33m\u001b[0m\u001b[1;33m\u001b[0m\u001b[0m\n",
      "\u001b[1;31mNameError\u001b[0m: name 'file' is not defined"
     ]
    }
   ],
   "source": [
    "x= file[['Job']]\n",
    "y= file[['Class']]"
   ]
  },
  {
   "cell_type": "code",
   "execution_count": null,
   "metadata": {},
   "outputs": [],
   "source": []
  },
  {
   "cell_type": "code",
   "execution_count": 8,
   "metadata": {},
   "outputs": [
    {
     "data": {
      "text/plain": [
       "Graph(id='example-graph-2', figure=Figure({\n",
       "    'data': [{'type': 'scatter', 'x': [1, 2, 3], 'y': [4, 1, 2]}], 'layout': {'template': '...'}\n",
       "}))"
      ]
     },
     "execution_count": 8,
     "metadata": {},
     "output_type": "execute_result"
    }
   ],
   "source": [
    "import dash\n",
    "import dash_core_components as dcc\n",
    "import plotly.graph_objs as go\n",
    "\n",
    "ap = dash.Dash()\n",
    "fig = go.Figure(data=[go.Scatter(x=[1, 2, 3], y=[4, 1, 2])])\n",
    "dcc.Graph(\n",
    "        id='example-graph-2',\n",
    "        figure=fig\n",
    "    )"
   ]
  },
  {
   "cell_type": "code",
   "execution_count": null,
   "metadata": {},
   "outputs": [
    {
     "name": "stdout",
     "output_type": "stream",
     "text": [
      " * Serving Flask app \"__main__\" (lazy loading)\n",
      " * Environment: production\n",
      "   WARNING: This is a development server. Do not use it in a production deployment.\n",
      "   Use a production WSGI server instead.\n",
      " * Debug mode: off\n"
     ]
    },
    {
     "name": "stderr",
     "output_type": "stream",
     "text": [
      " * Running on http://127.0.0.1:8050/ (Press CTRL+C to quit)\n"
     ]
    }
   ],
   "source": [
    "ap.run_server()"
   ]
  },
  {
   "cell_type": "code",
   "execution_count": null,
   "metadata": {},
   "outputs": [],
   "source": []
  },
  {
   "cell_type": "code",
   "execution_count": null,
   "metadata": {},
   "outputs": [],
   "source": []
  }
 ],
 "metadata": {
  "kernelspec": {
   "display_name": "Python 3",
   "language": "python",
   "name": "python3"
  },
  "language_info": {
   "codemirror_mode": {
    "name": "ipython",
    "version": 3
   },
   "file_extension": ".py",
   "mimetype": "text/x-python",
   "name": "python",
   "nbconvert_exporter": "python",
   "pygments_lexer": "ipython3",
   "version": "3.7.3"
  }
 },
 "nbformat": 4,
 "nbformat_minor": 4
}
